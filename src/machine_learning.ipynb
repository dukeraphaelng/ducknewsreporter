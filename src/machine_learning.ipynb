{
 "cells": [
  {
   "cell_type": "code",
   "execution_count": 1,
   "metadata": {},
   "outputs": [
    {
     "name": "stderr",
     "output_type": "stream",
     "text": [
      "/home/jimtang/unsw/cs9491/src/venv/lib/python3.10/site-packages/tqdm/auto.py:21: TqdmWarning: IProgress not found. Please update jupyter and ipywidgets. See https://ipywidgets.readthedocs.io/en/stable/user_install.html\n",
      "  from .autonotebook import tqdm as notebook_tqdm\n",
      "2023-08-05 23:12:21.217466: I tensorflow/core/platform/cpu_feature_guard.cc:182] This TensorFlow binary is optimized to use available CPU instructions in performance-critical operations.\n",
      "To enable the following instructions: AVX2 FMA, in other operations, rebuild TensorFlow with the appropriate compiler flags.\n",
      "2023-08-05 23:12:22.153816: W tensorflow/compiler/tf2tensorrt/utils/py_utils.cc:38] TF-TRT Warning: Could not find TensorRT\n",
      "2023-08-05 23:12:23.706087: I tensorflow/compiler/xla/stream_executor/cuda/cuda_gpu_executor.cc:981] could not open file to read NUMA node: /sys/bus/pci/devices/0000:09:00.0/numa_node\n",
      "Your kernel may have been built without NUMA support.\n",
      "2023-08-05 23:12:23.860438: I tensorflow/compiler/xla/stream_executor/cuda/cuda_gpu_executor.cc:981] could not open file to read NUMA node: /sys/bus/pci/devices/0000:09:00.0/numa_node\n",
      "Your kernel may have been built without NUMA support.\n",
      "2023-08-05 23:12:23.860512: I tensorflow/compiler/xla/stream_executor/cuda/cuda_gpu_executor.cc:981] could not open file to read NUMA node: /sys/bus/pci/devices/0000:09:00.0/numa_node\n",
      "Your kernel may have been built without NUMA support.\n"
     ]
    }
   ],
   "source": [
    "from classification import Pipeline, MachineLearningClassifier\n",
    "from sklearn.metrics import f1_score, accuracy_score\n",
    "import pandas as pd\n",
    "import json\n",
    "from IPython.display import display, HTML\n",
    "\n",
    "\n",
    "def get_metrics(train_y_true, train_y_pred, test_y_true, test_y_pred):\n",
    "    acc_train = accuracy_score(train_y_true, train_y_pred)\n",
    "    acc_test = accuracy_score(test_y_true, test_y_pred)\n",
    "    f1_train = f1_score(train_y_true, train_y_pred)\n",
    "    f1_test = f1_score(test_y_true, test_y_pred)\n",
    "    return [acc_train, f1_train, acc_test, f1_test]\n",
    "\n",
    "def run_tests(dataset_params: dict):\n",
    "    dataset = Pipeline(**dataset_params).load_dataset_from_file(\"data/Horne2017_FakeNewsData/Buzzfeed\")\n",
    "    train_X, train_y, test_X, test_y = dataset.train_test\n",
    "    clfs = MachineLearningClassifier()\n",
    "    clfs.fit(train_X, train_y)\n",
    "    preds_train = clfs.predict(train_X)\n",
    "    preds_test = clfs.predict(test_X)\n",
    "    params = clfs.best_params()\n",
    "    df = pd.DataFrame(columns=[\"Method\", \"Params\", \"train_accuracy\", \"train_f1\", \"test_accuracy\", \"test_f1\"])\n",
    "    for k, p in params.items():\n",
    "        metrics = get_metrics(train_y, preds_train[k], test_y, preds_test[k])\n",
    "        df.loc[len(df)] = [k, json.dumps(p, indent=2), *metrics]\n",
    "    df.sort_values(by=\"test_f1\", ascending=False, inplace=True)\n",
    "\n",
    "    return df\n",
    "\n",
    "\n",
    "def pretty_print(df):\n",
    "    return display(HTML(df.to_html().replace(\"\\\\n\",\"<br>\")))"
   ]
  },
  {
   "cell_type": "markdown",
   "metadata": {},
   "source": [
    "# BERT Only"
   ]
  },
  {
   "cell_type": "code",
   "execution_count": 2,
   "metadata": {},
   "outputs": [
    {
     "name": "stderr",
     "output_type": "stream",
     "text": [
      "Fitting models: 100%|██████████| 4/4 [00:24<00:00,  6.09s/it]\n"
     ]
    },
    {
     "data": {
      "text/html": [
       "<table border=\"1\" class=\"dataframe\">\n",
       "  <thead>\n",
       "    <tr style=\"text-align: right;\">\n",
       "      <th></th>\n",
       "      <th>Method</th>\n",
       "      <th>Params</th>\n",
       "      <th>train_accuracy</th>\n",
       "      <th>train_f1</th>\n",
       "      <th>test_accuracy</th>\n",
       "      <th>test_f1</th>\n",
       "    </tr>\n",
       "  </thead>\n",
       "  <tbody>\n",
       "    <tr>\n",
       "      <th>0</th>\n",
       "      <td>Logistic Regression</td>\n",
       "      <td>{<br>  \"C\": 1.2,<br>  \"solver\": \"lbfgs\"<br>}</td>\n",
       "      <td>0.974026</td>\n",
       "      <td>0.975610</td>\n",
       "      <td>0.80</td>\n",
       "      <td>0.833333</td>\n",
       "    </tr>\n",
       "    <tr>\n",
       "      <th>1</th>\n",
       "      <td>SVC</td>\n",
       "      <td>{<br>  \"C\": 0.2,<br>  \"gamma\": \"scale\",<br>  \"kernel\": \"rbf\"<br>}</td>\n",
       "      <td>0.532468</td>\n",
       "      <td>0.694915</td>\n",
       "      <td>0.55</td>\n",
       "      <td>0.709677</td>\n",
       "    </tr>\n",
       "    <tr>\n",
       "      <th>3</th>\n",
       "      <td>XGBoost</td>\n",
       "      <td>{<br>  \"alpha\": 0.0,<br>  \"eta\": 0.4,<br>  \"lambda\": 1.6,<br>  \"max_depth\": 2<br>}</td>\n",
       "      <td>1.000000</td>\n",
       "      <td>1.000000</td>\n",
       "      <td>0.70</td>\n",
       "      <td>0.666667</td>\n",
       "    </tr>\n",
       "    <tr>\n",
       "      <th>2</th>\n",
       "      <td>Decision Tree</td>\n",
       "      <td>{<br>  \"criterion\": \"gini\",<br>  \"max_depth\": 3,<br>  \"max_features\": null,<br>  \"min_samples_split\": 2<br>}</td>\n",
       "      <td>0.961039</td>\n",
       "      <td>0.962963</td>\n",
       "      <td>0.55</td>\n",
       "      <td>0.571429</td>\n",
       "    </tr>\n",
       "  </tbody>\n",
       "</table>"
      ],
      "text/plain": [
       "<IPython.core.display.HTML object>"
      ]
     },
     "metadata": {},
     "output_type": "display_data"
    }
   ],
   "source": [
    "pretty_print(run_tests({\n",
    "    \"non_latent\": None,\n",
    "    \"similarity\": False,\n",
    "}))"
   ]
  },
  {
   "cell_type": "markdown",
   "metadata": {},
   "source": [
    "# BERT + non latent"
   ]
  },
  {
   "cell_type": "code",
   "execution_count": 3,
   "metadata": {},
   "outputs": [
    {
     "name": "stderr",
     "output_type": "stream",
     "text": [
      "Fitting models: 100%|██████████| 4/4 [00:20<00:00,  5.09s/it]\n"
     ]
    },
    {
     "data": {
      "text/html": [
       "<table border=\"1\" class=\"dataframe\">\n",
       "  <thead>\n",
       "    <tr style=\"text-align: right;\">\n",
       "      <th></th>\n",
       "      <th>Method</th>\n",
       "      <th>Params</th>\n",
       "      <th>train_accuracy</th>\n",
       "      <th>train_f1</th>\n",
       "      <th>test_accuracy</th>\n",
       "      <th>test_f1</th>\n",
       "    </tr>\n",
       "  </thead>\n",
       "  <tbody>\n",
       "    <tr>\n",
       "      <th>0</th>\n",
       "      <td>Logistic Regression</td>\n",
       "      <td>{<br>  \"C\": 0.2,<br>  \"solver\": \"lbfgs\"<br>}</td>\n",
       "      <td>0.935065</td>\n",
       "      <td>0.936709</td>\n",
       "      <td>0.85</td>\n",
       "      <td>0.880000</td>\n",
       "    </tr>\n",
       "    <tr>\n",
       "      <th>3</th>\n",
       "      <td>XGBoost</td>\n",
       "      <td>{<br>  \"alpha\": 0.2,<br>  \"eta\": 0.4,<br>  \"lambda\": 1.0,<br>  \"max_depth\": 1<br>}</td>\n",
       "      <td>1.000000</td>\n",
       "      <td>1.000000</td>\n",
       "      <td>0.85</td>\n",
       "      <td>0.857143</td>\n",
       "    </tr>\n",
       "    <tr>\n",
       "      <th>1</th>\n",
       "      <td>SVC</td>\n",
       "      <td>{<br>  \"C\": 0.6,<br>  \"gamma\": \"scale\",<br>  \"kernel\": \"sigmoid\"<br>}</td>\n",
       "      <td>0.766234</td>\n",
       "      <td>0.763158</td>\n",
       "      <td>0.80</td>\n",
       "      <td>0.833333</td>\n",
       "    </tr>\n",
       "    <tr>\n",
       "      <th>2</th>\n",
       "      <td>Decision Tree</td>\n",
       "      <td>{<br>  \"criterion\": \"entropy\",<br>  \"max_depth\": 3,<br>  \"max_features\": \"sqrt\",<br>  \"min_samples_split\": 2<br>}</td>\n",
       "      <td>0.922078</td>\n",
       "      <td>0.921053</td>\n",
       "      <td>0.70</td>\n",
       "      <td>0.700000</td>\n",
       "    </tr>\n",
       "  </tbody>\n",
       "</table>"
      ],
      "text/plain": [
       "<IPython.core.display.HTML object>"
      ]
     },
     "metadata": {},
     "output_type": "display_data"
    }
   ],
   "source": [
    "pretty_print(run_tests({\n",
    "    \"non_latent\": Pipeline.NonLatentConfig(),\n",
    "    \"similarity\": False,\n",
    "}))"
   ]
  },
  {
   "cell_type": "markdown",
   "metadata": {},
   "source": [
    "# BERT + non latent + similarity"
   ]
  },
  {
   "cell_type": "code",
   "execution_count": 4,
   "metadata": {},
   "outputs": [
    {
     "name": "stderr",
     "output_type": "stream",
     "text": [
      "Fitting models: 100%|██████████| 4/4 [00:20<00:00,  5.14s/it]\n"
     ]
    },
    {
     "data": {
      "text/html": [
       "<table border=\"1\" class=\"dataframe\">\n",
       "  <thead>\n",
       "    <tr style=\"text-align: right;\">\n",
       "      <th></th>\n",
       "      <th>Method</th>\n",
       "      <th>Params</th>\n",
       "      <th>train_accuracy</th>\n",
       "      <th>train_f1</th>\n",
       "      <th>test_accuracy</th>\n",
       "      <th>test_f1</th>\n",
       "    </tr>\n",
       "  </thead>\n",
       "  <tbody>\n",
       "    <tr>\n",
       "      <th>0</th>\n",
       "      <td>Logistic Regression</td>\n",
       "      <td>{<br>  \"C\": 0.2,<br>  \"solver\": \"lbfgs\"<br>}</td>\n",
       "      <td>0.935065</td>\n",
       "      <td>0.936709</td>\n",
       "      <td>0.85</td>\n",
       "      <td>0.880000</td>\n",
       "    </tr>\n",
       "    <tr>\n",
       "      <th>3</th>\n",
       "      <td>XGBoost</td>\n",
       "      <td>{<br>  \"alpha\": 0.0,<br>  \"eta\": 0.5,<br>  \"lambda\": 1.2,<br>  \"max_depth\": 1<br>}</td>\n",
       "      <td>1.000000</td>\n",
       "      <td>1.000000</td>\n",
       "      <td>0.85</td>\n",
       "      <td>0.869565</td>\n",
       "    </tr>\n",
       "    <tr>\n",
       "      <th>1</th>\n",
       "      <td>SVC</td>\n",
       "      <td>{<br>  \"C\": 0.6,<br>  \"gamma\": \"scale\",<br>  \"kernel\": \"sigmoid\"<br>}</td>\n",
       "      <td>0.766234</td>\n",
       "      <td>0.763158</td>\n",
       "      <td>0.80</td>\n",
       "      <td>0.833333</td>\n",
       "    </tr>\n",
       "    <tr>\n",
       "      <th>2</th>\n",
       "      <td>Decision Tree</td>\n",
       "      <td>{<br>  \"criterion\": \"gini\",<br>  \"max_depth\": 3,<br>  \"max_features\": 0.3,<br>  \"min_samples_split\": 2<br>}</td>\n",
       "      <td>0.948052</td>\n",
       "      <td>0.950000</td>\n",
       "      <td>0.70</td>\n",
       "      <td>0.769231</td>\n",
       "    </tr>\n",
       "  </tbody>\n",
       "</table>"
      ],
      "text/plain": [
       "<IPython.core.display.HTML object>"
      ]
     },
     "metadata": {},
     "output_type": "display_data"
    }
   ],
   "source": [
    "pretty_print(run_tests({\n",
    "    \"non_latent\": Pipeline.NonLatentConfig(),\n",
    "    \"similarity\": True,\n",
    "}))"
   ]
  }
 ],
 "metadata": {
  "kernelspec": {
   "display_name": "venv",
   "language": "python",
   "name": "python3"
  },
  "language_info": {
   "codemirror_mode": {
    "name": "ipython",
    "version": 3
   },
   "file_extension": ".py",
   "mimetype": "text/x-python",
   "name": "python",
   "nbconvert_exporter": "python",
   "pygments_lexer": "ipython3",
   "version": "3.10.12"
  },
  "orig_nbformat": 4
 },
 "nbformat": 4,
 "nbformat_minor": 2
}
