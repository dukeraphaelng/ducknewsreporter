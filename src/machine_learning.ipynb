{
 "cells": [
  {
   "cell_type": "markdown",
   "metadata": {},
   "source": [
    "# Machine Learning\n",
    "\n",
    "**Note:** Jim (who was responsible for machine learning) lost his linux distro about a week before the code and report was due. This notebook and some features had to be rebuilt. After a bunch of testing, we couldn't reproduce the results we got during the project demo. We decided to copy the results from the demo in our report and discussion."
   ]
  },
  {
   "cell_type": "code",
   "execution_count": 7,
   "metadata": {},
   "outputs": [],
   "source": [
    "from classification import Pipeline, MachineLearningClassifier\n",
    "from sklearn.metrics import f1_score, accuracy_score\n",
    "import pandas as pd\n",
    "import numpy as np\n",
    "import json\n",
    "from IPython.display import display, HTML\n",
    "\n",
    "\n",
    "def get_metrics(train_y_true, train_y_pred, test_y_true, test_y_pred):\n",
    "    acc_train = accuracy_score(train_y_true, train_y_pred)\n",
    "    acc_test = accuracy_score(test_y_true, test_y_pred)\n",
    "    f1_train = f1_score(train_y_true, train_y_pred)\n",
    "    f1_test = f1_score(test_y_true, test_y_pred)\n",
    "    return [acc_train, f1_train, acc_test, f1_test]\n",
    "\n",
    "def run_tests(dataset_params: dict):\n",
    "    dataset = Pipeline(**dataset_params).load_dataset_from_file(\"data/Horne2017_FakeNewsData/Buzzfeed\")\n",
    "    train_X, train_y, test_X, test_y = dataset.train_test\n",
    "    print(train_X.shape)\n",
    "    clfs = MachineLearningClassifier()\n",
    "    clfs.fit(train_X, train_y)\n",
    "    preds_train = clfs.predict(train_X)\n",
    "    preds_test = clfs.predict(test_X)\n",
    "    params = clfs.best_params()\n",
    "    df = pd.DataFrame(columns=[\"Method\", \"Params\", \"train_accuracy\", \"train_f1\", \"test_accuracy\", \"test_f1\"])\n",
    "    for k, p in params.items():\n",
    "        metrics = get_metrics(train_y, preds_train[k], test_y, preds_test[k])\n",
    "        df.loc[len(df)] = [k, json.dumps(p, indent=2), *metrics]\n",
    "    df.sort_values(by=\"test_f1\", ascending=False, inplace=True)\n",
    "\n",
    "    return df\n",
    "\n",
    "\n",
    "def pretty_print(df):\n",
    "    return display(HTML(df.to_html().replace(\"\\\\n\",\"<br>\")))\n",
    "\n",
    "\n",
    "def print_as_latex(df, feature):\n",
    "    metrics = [\"train_accuracy\", \"train_f1\", \"test_accuracy\", \"test_f1\"]\n",
    "    lr = [str(np.round(v, 2)) for v in df[df[\"Method\"] == \"Logistic Regression\"][metrics].values[0]]\n",
    "    svc = [str(np.round(v, 2)) for v in df[df[\"Method\"] == \"SVC\"][metrics].values[0]]\n",
    "    dt = [str(np.round(v, 2)) for v in df[df[\"Method\"] == \"Decision Tree\"][metrics].values[0]]\n",
    "    xgb = [str(np.round(v, 2)) for v in df[df[\"Method\"] == \"XGBoost\"][metrics].values[0]]\n",
    "    print(f\"\"\"\\\\multirow{{4}}{{*}}{{{feature}}} & LR & {\" & \".join(lr)}\\\\\\\\\n",
    "\\\\cmidrule{{2-6}}\n",
    "& SVC & {\" & \".join(svc)}\\\\\\\\\n",
    "\\\\cmidrule{{2-6}}\n",
    "& DT & {\" & \".join(dt)}\\\\\\\\\n",
    "\\\\cmidrule{{2-6}}\n",
    "& \\\\textbf{{XGB}} & {\" & \".join(xgb)}\\\\\\\\\"\"\")"
   ]
  },
  {
   "cell_type": "markdown",
   "metadata": {},
   "source": [
    "## BERT Only"
   ]
  },
  {
   "cell_type": "code",
   "execution_count": 8,
   "metadata": {},
   "outputs": [
    {
     "name": "stdout",
     "output_type": "stream",
     "text": [
      "(77, 768)\n"
     ]
    },
    {
     "name": "stderr",
     "output_type": "stream",
     "text": [
      "Fitting models: 100%|██████████| 4/4 [00:23<00:00,  5.98s/it]"
     ]
    },
    {
     "name": "stdout",
     "output_type": "stream",
     "text": [
      "\\multirow{4}{*}{BERT} & LR & 0.97 & 0.98 & 0.8 & 0.83\\\\\n",
      "\\cmidrule{2-6}\n",
      "& SVC & 0.53 & 0.69 & 0.55 & 0.71\\\\\n",
      "\\cmidrule{2-6}\n",
      "& DT & 0.96 & 0.96 & 0.55 & 0.57\\\\\n",
      "\\cmidrule{2-6}\n",
      "& \\textbf{XGB} & 1.0 & 1.0 & 0.7 & 0.67\\\\\n"
     ]
    },
    {
     "name": "stderr",
     "output_type": "stream",
     "text": [
      "\n"
     ]
    },
    {
     "data": {
      "text/html": [
       "<table border=\"1\" class=\"dataframe\">\n",
       "  <thead>\n",
       "    <tr style=\"text-align: right;\">\n",
       "      <th></th>\n",
       "      <th>Method</th>\n",
       "      <th>Params</th>\n",
       "      <th>train_accuracy</th>\n",
       "      <th>train_f1</th>\n",
       "      <th>test_accuracy</th>\n",
       "      <th>test_f1</th>\n",
       "    </tr>\n",
       "  </thead>\n",
       "  <tbody>\n",
       "    <tr>\n",
       "      <th>0</th>\n",
       "      <td>Logistic Regression</td>\n",
       "      <td>{<br>  \"C\": 1.2,<br>  \"solver\": \"lbfgs\"<br>}</td>\n",
       "      <td>0.974026</td>\n",
       "      <td>0.975610</td>\n",
       "      <td>0.80</td>\n",
       "      <td>0.833333</td>\n",
       "    </tr>\n",
       "    <tr>\n",
       "      <th>1</th>\n",
       "      <td>SVC</td>\n",
       "      <td>{<br>  \"C\": 0.2,<br>  \"gamma\": \"scale\",<br>  \"kernel\": \"rbf\"<br>}</td>\n",
       "      <td>0.532468</td>\n",
       "      <td>0.694915</td>\n",
       "      <td>0.55</td>\n",
       "      <td>0.709677</td>\n",
       "    </tr>\n",
       "    <tr>\n",
       "      <th>3</th>\n",
       "      <td>XGBoost</td>\n",
       "      <td>{<br>  \"alpha\": 0.0,<br>  \"eta\": 0.4,<br>  \"lambda\": 1.6,<br>  \"max_depth\": 2<br>}</td>\n",
       "      <td>1.000000</td>\n",
       "      <td>1.000000</td>\n",
       "      <td>0.70</td>\n",
       "      <td>0.666667</td>\n",
       "    </tr>\n",
       "    <tr>\n",
       "      <th>2</th>\n",
       "      <td>Decision Tree</td>\n",
       "      <td>{<br>  \"criterion\": \"gini\",<br>  \"max_depth\": 3,<br>  \"max_features\": null,<br>  \"min_samples_split\": 2<br>}</td>\n",
       "      <td>0.961039</td>\n",
       "      <td>0.962963</td>\n",
       "      <td>0.55</td>\n",
       "      <td>0.571429</td>\n",
       "    </tr>\n",
       "  </tbody>\n",
       "</table>"
      ],
      "text/plain": [
       "<IPython.core.display.HTML object>"
      ]
     },
     "metadata": {},
     "output_type": "display_data"
    }
   ],
   "source": [
    "df1 = run_tests({\n",
    "    \"non_latent\": None,\n",
    "    \"similarity\": False,\n",
    "})\n",
    "print_as_latex(df1, \"BERT\")\n",
    "pretty_print(df1)"
   ]
  },
  {
   "cell_type": "markdown",
   "metadata": {},
   "source": [
    "## BERT + non latent"
   ]
  },
  {
   "cell_type": "code",
   "execution_count": 9,
   "metadata": {},
   "outputs": [
    {
     "name": "stdout",
     "output_type": "stream",
     "text": [
      "(77, 795)\n"
     ]
    },
    {
     "name": "stderr",
     "output_type": "stream",
     "text": [
      "Fitting models: 100%|██████████| 4/4 [00:21<00:00,  5.44s/it]"
     ]
    },
    {
     "name": "stdout",
     "output_type": "stream",
     "text": [
      "\\multirow{4}{*}{\\shortstack{BERT\\\\+ Non-Latent}} & LR & 0.94 & 0.94 & 0.85 & 0.88\\\\\n",
      "\\cmidrule{2-6}\n",
      "& SVC & 0.77 & 0.76 & 0.8 & 0.83\\\\\n",
      "\\cmidrule{2-6}\n",
      "& DT & 0.92 & 0.92 & 0.7 & 0.7\\\\\n",
      "\\cmidrule{2-6}\n",
      "& \\textbf{XGB} & 1.0 & 1.0 & 0.85 & 0.86\\\\\n"
     ]
    },
    {
     "name": "stderr",
     "output_type": "stream",
     "text": [
      "\n"
     ]
    },
    {
     "data": {
      "text/html": [
       "<table border=\"1\" class=\"dataframe\">\n",
       "  <thead>\n",
       "    <tr style=\"text-align: right;\">\n",
       "      <th></th>\n",
       "      <th>Method</th>\n",
       "      <th>Params</th>\n",
       "      <th>train_accuracy</th>\n",
       "      <th>train_f1</th>\n",
       "      <th>test_accuracy</th>\n",
       "      <th>test_f1</th>\n",
       "    </tr>\n",
       "  </thead>\n",
       "  <tbody>\n",
       "    <tr>\n",
       "      <th>0</th>\n",
       "      <td>Logistic Regression</td>\n",
       "      <td>{<br>  \"C\": 0.2,<br>  \"solver\": \"lbfgs\"<br>}</td>\n",
       "      <td>0.935065</td>\n",
       "      <td>0.936709</td>\n",
       "      <td>0.85</td>\n",
       "      <td>0.880000</td>\n",
       "    </tr>\n",
       "    <tr>\n",
       "      <th>3</th>\n",
       "      <td>XGBoost</td>\n",
       "      <td>{<br>  \"alpha\": 0.2,<br>  \"eta\": 0.4,<br>  \"lambda\": 1.0,<br>  \"max_depth\": 1<br>}</td>\n",
       "      <td>1.000000</td>\n",
       "      <td>1.000000</td>\n",
       "      <td>0.85</td>\n",
       "      <td>0.857143</td>\n",
       "    </tr>\n",
       "    <tr>\n",
       "      <th>1</th>\n",
       "      <td>SVC</td>\n",
       "      <td>{<br>  \"C\": 0.6,<br>  \"gamma\": \"scale\",<br>  \"kernel\": \"sigmoid\"<br>}</td>\n",
       "      <td>0.766234</td>\n",
       "      <td>0.763158</td>\n",
       "      <td>0.80</td>\n",
       "      <td>0.833333</td>\n",
       "    </tr>\n",
       "    <tr>\n",
       "      <th>2</th>\n",
       "      <td>Decision Tree</td>\n",
       "      <td>{<br>  \"criterion\": \"entropy\",<br>  \"max_depth\": 3,<br>  \"max_features\": \"sqrt\",<br>  \"min_samples_split\": 2<br>}</td>\n",
       "      <td>0.922078</td>\n",
       "      <td>0.921053</td>\n",
       "      <td>0.70</td>\n",
       "      <td>0.700000</td>\n",
       "    </tr>\n",
       "  </tbody>\n",
       "</table>"
      ],
      "text/plain": [
       "<IPython.core.display.HTML object>"
      ]
     },
     "metadata": {},
     "output_type": "display_data"
    }
   ],
   "source": [
    "df2 = run_tests({\n",
    "    \"non_latent\": Pipeline.NonLatentConfig(),\n",
    "    \"similarity\": False,\n",
    "})\n",
    "print_as_latex(df2, \"\\\\shortstack{BERT\\\\\\\\+ Non-Latent}\")\n",
    "pretty_print(df2)"
   ]
  },
  {
   "cell_type": "markdown",
   "metadata": {},
   "source": [
    "## BERT + non latent + similarity"
   ]
  },
  {
   "cell_type": "code",
   "execution_count": 10,
   "metadata": {},
   "outputs": [
    {
     "name": "stdout",
     "output_type": "stream",
     "text": [
      "(77, 796)\n"
     ]
    },
    {
     "name": "stderr",
     "output_type": "stream",
     "text": [
      "Fitting models: 100%|██████████| 4/4 [00:21<00:00,  5.33s/it]"
     ]
    },
    {
     "name": "stdout",
     "output_type": "stream",
     "text": [
      "\\multirow{4}{*}{\\shortstack{BERT\\\\+ Non-Latent\\\\+ Similarity}} & LR & 0.94 & 0.94 & 0.85 & 0.88\\\\\n",
      "\\cmidrule{2-6}\n",
      "& SVC & 0.77 & 0.76 & 0.8 & 0.83\\\\\n",
      "\\cmidrule{2-6}\n",
      "& DT & 0.95 & 0.95 & 0.7 & 0.77\\\\\n",
      "\\cmidrule{2-6}\n",
      "& \\textbf{XGB} & 1.0 & 1.0 & 0.85 & 0.87\\\\\n"
     ]
    },
    {
     "name": "stderr",
     "output_type": "stream",
     "text": [
      "\n"
     ]
    },
    {
     "data": {
      "text/html": [
       "<table border=\"1\" class=\"dataframe\">\n",
       "  <thead>\n",
       "    <tr style=\"text-align: right;\">\n",
       "      <th></th>\n",
       "      <th>Method</th>\n",
       "      <th>Params</th>\n",
       "      <th>train_accuracy</th>\n",
       "      <th>train_f1</th>\n",
       "      <th>test_accuracy</th>\n",
       "      <th>test_f1</th>\n",
       "    </tr>\n",
       "  </thead>\n",
       "  <tbody>\n",
       "    <tr>\n",
       "      <th>0</th>\n",
       "      <td>Logistic Regression</td>\n",
       "      <td>{<br>  \"C\": 0.2,<br>  \"solver\": \"lbfgs\"<br>}</td>\n",
       "      <td>0.935065</td>\n",
       "      <td>0.936709</td>\n",
       "      <td>0.85</td>\n",
       "      <td>0.880000</td>\n",
       "    </tr>\n",
       "    <tr>\n",
       "      <th>3</th>\n",
       "      <td>XGBoost</td>\n",
       "      <td>{<br>  \"alpha\": 0.0,<br>  \"eta\": 0.5,<br>  \"lambda\": 1.2,<br>  \"max_depth\": 1<br>}</td>\n",
       "      <td>1.000000</td>\n",
       "      <td>1.000000</td>\n",
       "      <td>0.85</td>\n",
       "      <td>0.869565</td>\n",
       "    </tr>\n",
       "    <tr>\n",
       "      <th>1</th>\n",
       "      <td>SVC</td>\n",
       "      <td>{<br>  \"C\": 0.6,<br>  \"gamma\": \"scale\",<br>  \"kernel\": \"sigmoid\"<br>}</td>\n",
       "      <td>0.766234</td>\n",
       "      <td>0.763158</td>\n",
       "      <td>0.80</td>\n",
       "      <td>0.833333</td>\n",
       "    </tr>\n",
       "    <tr>\n",
       "      <th>2</th>\n",
       "      <td>Decision Tree</td>\n",
       "      <td>{<br>  \"criterion\": \"gini\",<br>  \"max_depth\": 3,<br>  \"max_features\": 0.3,<br>  \"min_samples_split\": 2<br>}</td>\n",
       "      <td>0.948052</td>\n",
       "      <td>0.950000</td>\n",
       "      <td>0.70</td>\n",
       "      <td>0.769231</td>\n",
       "    </tr>\n",
       "  </tbody>\n",
       "</table>"
      ],
      "text/plain": [
       "<IPython.core.display.HTML object>"
      ]
     },
     "metadata": {},
     "output_type": "display_data"
    }
   ],
   "source": [
    "df3 = run_tests({\n",
    "    \"non_latent\": Pipeline.NonLatentConfig(),\n",
    "    \"similarity\": True,\n",
    "})\n",
    "print_as_latex(df3, \"\\\\shortstack{BERT\\\\\\\\+ Non-Latent\\\\\\\\+ Similarity}\")\n",
    "pretty_print(df3)"
   ]
  }
 ],
 "metadata": {
  "kernelspec": {
   "display_name": "venv",
   "language": "python",
   "name": "python3"
  },
  "language_info": {
   "codemirror_mode": {
    "name": "ipython",
    "version": 3
   },
   "file_extension": ".py",
   "mimetype": "text/x-python",
   "name": "python",
   "nbconvert_exporter": "python",
   "pygments_lexer": "ipython3",
   "version": "3.10.12"
  },
  "orig_nbformat": 4
 },
 "nbformat": 4,
 "nbformat_minor": 2
}
