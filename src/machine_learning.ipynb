{
 "cells": [
  {
   "cell_type": "code",
   "execution_count": 11,
   "metadata": {},
   "outputs": [],
   "source": [
    "from classification import Pipeline, MachineLearningClassifier\n",
    "from sklearn.metrics import f1_score, accuracy_score\n",
    "import pandas as pd\n",
    "import json\n",
    "from IPython.display import display, HTML\n",
    "\n",
    "\n",
    "def get_metrics(train_y_true, train_y_pred, test_y_true, test_y_pred):\n",
    "    acc_train = accuracy_score(train_y_true, train_y_pred)\n",
    "    acc_test = accuracy_score(test_y_true, test_y_pred)\n",
    "    f1_train = f1_score(train_y_true, train_y_pred)\n",
    "    f1_test = f1_score(test_y_true, test_y_pred)\n",
    "    return [acc_train, f1_train, acc_test, f1_test]\n",
    "\n",
    "def run_tests(dataset_params: dict):\n",
    "    dataset = Pipeline(**dataset_params).load_dataset_from_file(\"data/Horne2017_FakeNewsData/Buzzfeed\")\n",
    "    train_X, train_y, test_X, test_y = dataset.train_test\n",
    "    clfs = MachineLearningClassifier()\n",
    "    clfs.fit(train_X, train_y)\n",
    "    preds_train = clfs.predict(train_X)\n",
    "    preds_test = clfs.predict(test_X)\n",
    "    params = clfs.best_params()\n",
    "    df = pd.DataFrame(columns=[\"Method\", \"Params\", \"train_accuracy\", \"train_f1\", \"test_accuracy\", \"test_f1\"])\n",
    "    for k, p in params.items():\n",
    "        metrics = get_metrics(train_y, preds_train[k], test_y, preds_test[k])\n",
    "        df.loc[len(df)] = [k, json.dumps(p, indent=2), *metrics]\n",
    "    df.sort_values(by=\"test_f1\", ascending=False, inplace=True)\n",
    "\n",
    "    return df\n",
    "\n",
    "\n",
    "def pretty_print(df):\n",
    "    return display(HTML(df.to_html().replace(\"\\\\n\",\"<br>\")))"
   ]
  },
  {
   "cell_type": "markdown",
   "metadata": {},
   "source": [
    "# BERT Only"
   ]
  },
  {
   "cell_type": "code",
   "execution_count": 12,
   "metadata": {},
   "outputs": [
    {
     "name": "stderr",
     "output_type": "stream",
     "text": [
      "Fitting models: 100%|██████████| 4/4 [00:24<00:00,  6.01s/it]\n"
     ]
    },
    {
     "data": {
      "text/html": [
       "<table border=\"1\" class=\"dataframe\">\n",
       "  <thead>\n",
       "    <tr style=\"text-align: right;\">\n",
       "      <th></th>\n",
       "      <th>Method</th>\n",
       "      <th>Params</th>\n",
       "      <th>train_accuracy</th>\n",
       "      <th>train_f1</th>\n",
       "      <th>test_accuracy</th>\n",
       "      <th>test_f1</th>\n",
       "    </tr>\n",
       "  </thead>\n",
       "  <tbody>\n",
       "    <tr>\n",
       "      <th>0</th>\n",
       "      <td>Logistic Regression</td>\n",
       "      <td>{<br>  \"C\": 1.2,<br>  \"solver\": \"liblinear\"<br>}</td>\n",
       "      <td>0.961039</td>\n",
       "      <td>0.962963</td>\n",
       "      <td>0.60</td>\n",
       "      <td>0.666667</td>\n",
       "    </tr>\n",
       "    <tr>\n",
       "      <th>1</th>\n",
       "      <td>SVC</td>\n",
       "      <td>{<br>  \"C\": 1.0,<br>  \"class_weight\": null,<br>  \"gamma\": 0.01,<br>  \"kernel\": \"poly\"<br>}</td>\n",
       "      <td>0.935065</td>\n",
       "      <td>0.938272</td>\n",
       "      <td>0.55</td>\n",
       "      <td>0.608696</td>\n",
       "    </tr>\n",
       "    <tr>\n",
       "      <th>2</th>\n",
       "      <td>Decision Tree</td>\n",
       "      <td>{<br>  \"criterion\": \"entropy\",<br>  \"max_depth\": 5,<br>  \"max_features\": null,<br>  \"min_samples_split\": 4<br>}</td>\n",
       "      <td>1.000000</td>\n",
       "      <td>1.000000</td>\n",
       "      <td>0.55</td>\n",
       "      <td>0.571429</td>\n",
       "    </tr>\n",
       "    <tr>\n",
       "      <th>3</th>\n",
       "      <td>XGBoost</td>\n",
       "      <td>{<br>  \"alpha\": 0.0,<br>  \"eta\": 0.4,<br>  \"lambda\": 0.8,<br>  \"max_depth\": 4<br>}</td>\n",
       "      <td>1.000000</td>\n",
       "      <td>1.000000</td>\n",
       "      <td>0.50</td>\n",
       "      <td>0.545455</td>\n",
       "    </tr>\n",
       "  </tbody>\n",
       "</table>"
      ],
      "text/plain": [
       "<IPython.core.display.HTML object>"
      ]
     },
     "metadata": {},
     "output_type": "display_data"
    }
   ],
   "source": [
    "pretty_print(run_tests({\n",
    "    \"non_latent\": None,\n",
    "    \"similarity\": False,\n",
    "}))"
   ]
  },
  {
   "cell_type": "markdown",
   "metadata": {},
   "source": [
    "# BERT + non latent"
   ]
  },
  {
   "cell_type": "code",
   "execution_count": 13,
   "metadata": {},
   "outputs": [
    {
     "name": "stderr",
     "output_type": "stream",
     "text": [
      "Fitting models: 100%|██████████| 4/4 [00:22<00:00,  5.65s/it]\n"
     ]
    },
    {
     "data": {
      "text/html": [
       "<table border=\"1\" class=\"dataframe\">\n",
       "  <thead>\n",
       "    <tr style=\"text-align: right;\">\n",
       "      <th></th>\n",
       "      <th>Method</th>\n",
       "      <th>Params</th>\n",
       "      <th>train_accuracy</th>\n",
       "      <th>train_f1</th>\n",
       "      <th>test_accuracy</th>\n",
       "      <th>test_f1</th>\n",
       "    </tr>\n",
       "  </thead>\n",
       "  <tbody>\n",
       "    <tr>\n",
       "      <th>2</th>\n",
       "      <td>Decision Tree</td>\n",
       "      <td>{<br>  \"criterion\": \"entropy\",<br>  \"max_depth\": 5,<br>  \"max_features\": 0.3,<br>  \"min_samples_split\": 2<br>}</td>\n",
       "      <td>0.987013</td>\n",
       "      <td>0.987952</td>\n",
       "      <td>0.9</td>\n",
       "      <td>0.909091</td>\n",
       "    </tr>\n",
       "    <tr>\n",
       "      <th>3</th>\n",
       "      <td>XGBoost</td>\n",
       "      <td>{<br>  \"alpha\": 0.0,<br>  \"eta\": 0.3,<br>  \"lambda\": 1.2,<br>  \"max_depth\": 1<br>}</td>\n",
       "      <td>1.000000</td>\n",
       "      <td>1.000000</td>\n",
       "      <td>0.9</td>\n",
       "      <td>0.900000</td>\n",
       "    </tr>\n",
       "    <tr>\n",
       "      <th>1</th>\n",
       "      <td>SVC</td>\n",
       "      <td>{<br>  \"C\": 1.2,<br>  \"class_weight\": null,<br>  \"gamma\": 0.01,<br>  \"kernel\": \"rbf\"<br>}</td>\n",
       "      <td>1.000000</td>\n",
       "      <td>1.000000</td>\n",
       "      <td>0.7</td>\n",
       "      <td>0.785714</td>\n",
       "    </tr>\n",
       "    <tr>\n",
       "      <th>0</th>\n",
       "      <td>Logistic Regression</td>\n",
       "      <td>{<br>  \"C\": 1.0,<br>  \"solver\": \"lbfgs\"<br>}</td>\n",
       "      <td>0.974026</td>\n",
       "      <td>0.975000</td>\n",
       "      <td>0.8</td>\n",
       "      <td>0.777778</td>\n",
       "    </tr>\n",
       "  </tbody>\n",
       "</table>"
      ],
      "text/plain": [
       "<IPython.core.display.HTML object>"
      ]
     },
     "metadata": {},
     "output_type": "display_data"
    }
   ],
   "source": [
    "pretty_print(run_tests({\n",
    "    \"non_latent\": Pipeline.NonLatentConfig(),\n",
    "    \"similarity\": False,\n",
    "}))"
   ]
  },
  {
   "cell_type": "markdown",
   "metadata": {},
   "source": [
    "# BERT + non latent + similarity"
   ]
  },
  {
   "cell_type": "code",
   "execution_count": 14,
   "metadata": {},
   "outputs": [
    {
     "name": "stderr",
     "output_type": "stream",
     "text": [
      "Fitting models: 100%|██████████| 4/4 [00:21<00:00,  5.44s/it]\n"
     ]
    },
    {
     "data": {
      "text/html": [
       "<table border=\"1\" class=\"dataframe\">\n",
       "  <thead>\n",
       "    <tr style=\"text-align: right;\">\n",
       "      <th></th>\n",
       "      <th>Method</th>\n",
       "      <th>Params</th>\n",
       "      <th>train_accuracy</th>\n",
       "      <th>train_f1</th>\n",
       "      <th>test_accuracy</th>\n",
       "      <th>test_f1</th>\n",
       "    </tr>\n",
       "  </thead>\n",
       "  <tbody>\n",
       "    <tr>\n",
       "      <th>3</th>\n",
       "      <td>XGBoost</td>\n",
       "      <td>{<br>  \"alpha\": 0.0,<br>  \"eta\": 0.3,<br>  \"lambda\": 1.2,<br>  \"max_depth\": 1<br>}</td>\n",
       "      <td>1.000000</td>\n",
       "      <td>1.000000</td>\n",
       "      <td>0.9</td>\n",
       "      <td>0.900000</td>\n",
       "    </tr>\n",
       "    <tr>\n",
       "      <th>2</th>\n",
       "      <td>Decision Tree</td>\n",
       "      <td>{<br>  \"criterion\": \"gini\",<br>  \"max_depth\": 3,<br>  \"max_features\": \"sqrt\",<br>  \"min_samples_split\": 2<br>}</td>\n",
       "      <td>0.896104</td>\n",
       "      <td>0.894737</td>\n",
       "      <td>0.8</td>\n",
       "      <td>0.800000</td>\n",
       "    </tr>\n",
       "    <tr>\n",
       "      <th>1</th>\n",
       "      <td>SVC</td>\n",
       "      <td>{<br>  \"C\": 1.2,<br>  \"class_weight\": null,<br>  \"gamma\": 0.01,<br>  \"kernel\": \"rbf\"<br>}</td>\n",
       "      <td>1.000000</td>\n",
       "      <td>1.000000</td>\n",
       "      <td>0.7</td>\n",
       "      <td>0.785714</td>\n",
       "    </tr>\n",
       "    <tr>\n",
       "      <th>0</th>\n",
       "      <td>Logistic Regression</td>\n",
       "      <td>{<br>  \"C\": 1.0,<br>  \"solver\": \"lbfgs\"<br>}</td>\n",
       "      <td>0.974026</td>\n",
       "      <td>0.975000</td>\n",
       "      <td>0.8</td>\n",
       "      <td>0.777778</td>\n",
       "    </tr>\n",
       "  </tbody>\n",
       "</table>"
      ],
      "text/plain": [
       "<IPython.core.display.HTML object>"
      ]
     },
     "metadata": {},
     "output_type": "display_data"
    }
   ],
   "source": [
    "pretty_print(run_tests({\n",
    "    \"non_latent\": Pipeline.NonLatentConfig(),\n",
    "    \"similarity\": True,\n",
    "}))"
   ]
  }
 ],
 "metadata": {
  "kernelspec": {
   "display_name": "venv",
   "language": "python",
   "name": "python3"
  },
  "language_info": {
   "codemirror_mode": {
    "name": "ipython",
    "version": 3
   },
   "file_extension": ".py",
   "mimetype": "text/x-python",
   "name": "python",
   "nbconvert_exporter": "python",
   "pygments_lexer": "ipython3",
   "version": "3.10.12"
  },
  "orig_nbformat": 4
 },
 "nbformat": 4,
 "nbformat_minor": 2
}
