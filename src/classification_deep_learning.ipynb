{
  "cells": [
    {
      "cell_type": "code",
      "execution_count": null,
      "metadata": {
        "id": "8UPgncdyTWTU"
      },
      "outputs": [],
      "source": [
        "import tensorflow as tf\n",
        "from tensorflow.keras import datasets, layers, models\n",
        "\n",
        "import numpy as np\n",
        "import matplotlib.pyplot as plt\n",
        "import pandas as pd\n",
        "\n",
        "import logging\n",
        "from dataclasses import dataclass\n",
        "from pathlib import Path\n",
        "from typing import Any, Dict, Optional\n",
        "\n",
        "from sklearn import preprocessing\n",
        "from sklearn.model_selection import train_test_split\n",
        "from sklearn.metrics import classification_report\n",
        "from sklearn.metrics import confusion_matrix, ConfusionMatrixDisplay"
      ]
    },
    {
      "cell_type": "code",
      "execution_count": null,
      "metadata": {
        "id": "U23J-iucAKgT"
      },
      "outputs": [],
      "source": [
        "#!unzip Horne2017_FakeNewsData.zip"
      ]
    },
    {
      "cell_type": "code",
      "execution_count": null,
      "metadata": {
        "id": "DOBJpFyo_RV-"
      },
      "outputs": [],
      "source": [
        "class Pipeline:\n",
        "    _DIVERSITY_KEYS = ['div_FUNC_sum',\n",
        "  'div_LEX_percent',\n",
        "  'div_VERB_sum',\n",
        "  'div_FUNC_percent',\n",
        "  'div_CONT_percent',\n",
        "  'div_ADV_percent',\n",
        "  'div_NOUN_percent',\n",
        "  'div_VERB_percent',\n",
        "  'div_ADJ_percent']\n",
        "    _PRONOUN_KEYS = ['pron_FPP_sum', 'pron_FPS_sum']\n",
        "    _QUANTITY_KEYS = ['quant_PRP$_sum',\n",
        "  'quant_PUNCT_percent',\n",
        "  'quant_PUNCT_sum',\n",
        "  'quant_NEG_sum',\n",
        "  'quant_UP_sum',\n",
        "  'quant_UP_percent',\n",
        "  'quant_VBD_percent',\n",
        "  'quant_VBD_sum',\n",
        "  'quant_NUM_sum',\n",
        "  'quant_WDT_sum',\n",
        "  'quant_QUOTE_sum',\n",
        "  'quant_NEG_percent']\n",
        "    _SENTIMENT_KEYS = ['senti_!_percent', 'senti_CAPS_sum', 'senti_?_sum']\n",
        "    _AVERAGE_KEYS = ['avg_puncts_per_sent_sum']\n",
        "    _MEDIAN_SYNTAX_TREE_KEYS = []\n",
        "    _READABILITY_KEYS = []\n",
        "\n",
        "    @dataclass\n",
        "    class NonLatentConfig:\n",
        "        diversity: bool = True\n",
        "        pronoun: bool = True\n",
        "        quantity: bool = True\n",
        "        sentiment: bool = True\n",
        "        average: bool = True\n",
        "        # not include below\n",
        "        median_syntax_tree: bool = False\n",
        "        readability: bool = False\n",
        "\n",
        "        def build_keys(self):\n",
        "            keys = []\n",
        "            if self.diversity:\n",
        "                keys.extend(Pipeline._DIVERSITY_KEYS)\n",
        "            if self.pronoun:\n",
        "                keys.extend(Pipeline._PRONOUN_KEYS)\n",
        "            if self.quantity:\n",
        "                keys.extend(Pipeline._QUANTITY_KEYS)\n",
        "            if self.sentiment:\n",
        "                keys.extend(Pipeline._SENTIMENT_KEYS)\n",
        "            if self.average:\n",
        "                keys.extend(Pipeline._AVERAGE_KEYS)\n",
        "            if self.median_syntax_tree:\n",
        "                keys.extend(Pipeline._MEDIAN_SYNTAX_TREE_KEYS)\n",
        "            if self.readability:\n",
        "                keys.extend(Pipeline._READABILITY_KEYS)\n",
        "            return keys\n",
        "\n",
        "        def build_drop_keys(self):\n",
        "            keys = []\n",
        "            if not self.diversity:\n",
        "                keys.extend(Pipeline._DIVERSITY_KEYS)\n",
        "            if not self.pronoun:\n",
        "                keys.extend(Pipeline._PRONOUN_KEYS)\n",
        "            if not self.quantity:\n",
        "                keys.extend(Pipeline._QUANTITY_KEYS)\n",
        "            if not self.sentiment:\n",
        "                keys.extend(Pipeline._SENTIMENT_KEYS)\n",
        "            if not self.average:\n",
        "                keys.extend(Pipeline._AVERAGE_KEYS)\n",
        "            if not self.median_syntax_tree:\n",
        "                keys.extend(Pipeline._MEDIAN_SYNTAX_TREE_KEYS)\n",
        "            if not self.readability:\n",
        "                keys.extend(Pipeline._READABILITY_KEYS)\n",
        "            return keys\n",
        "\n",
        "    def __init__(self, similarity=True, non_latent: Optional[NonLatentConfig]=NonLatentConfig()):\n",
        "        self.similarity = similarity\n",
        "        self.non_latent = non_latent\n",
        "\n",
        "    def load_dataset_from_file(self):\n",
        "        sets = {}\n",
        "        for name in [\"train\", \"valid\", \"test\"]:\n",
        "            df = pd.read_csv(f\"features_{name}.csv\")\n",
        "            y = df[\"label\"].to_numpy()\n",
        "            labels_to_drop = [\"label\"]\n",
        "            if not self.similarity:\n",
        "                labels_to_drop.append(\"tf_idf_1_2_harmonic_mean\")\n",
        "            if self.non_latent:\n",
        "                labels_to_drop.extend(self.non_latent.build_drop_keys())\n",
        "            else:\n",
        "                # Delete all keys\n",
        "                labels_to_drop.extend(Pipeline.NonLatentConfig().build_keys())\n",
        "            X = df.drop(labels_to_drop, axis=1).to_numpy()\n",
        "            sets[name] = (X, y)\n",
        "        X_train, y_train = sets[\"train\"]\n",
        "        X_valid, y_valid = sets[\"valid\"]\n",
        "        X_test, y_test = sets[\"test\"]\n",
        "        return (X_train, X_valid, X_test, y_train.astype(int), y_valid.astype(int), y_test.astype(int))"
      ]
    },
    {
      "cell_type": "code",
      "execution_count": null,
      "metadata": {
        "id": "ZToTFH1cAcIb"
      },
      "outputs": [],
      "source": [
        "pipeline = Pipeline(similarity=False)\n",
        "X_train, X_valid, X_test, y_train, y_valid, y_test = pipeline.load_dataset_from_file()\n",
        "input_shape = X_train.shape[1]"
      ]
    },
    {
      "cell_type": "code",
      "execution_count": null,
      "metadata": {
        "colab": {
          "base_uri": "https://localhost:8080/"
        },
        "id": "ITlrKUM9B2hR",
        "outputId": "7d802f14-7ac8-4638-e6bd-088f1d3079a0"
      },
      "outputs": [
        {
          "data": {
            "text/plain": [
              "795"
            ]
          },
          "execution_count": 96,
          "metadata": {},
          "output_type": "execute_result"
        }
      ],
      "source": [
        "input_shape"
      ]
    },
    {
      "cell_type": "code",
      "execution_count": null,
      "metadata": {
        "id": "LRbMJCvXTajR"
      },
      "outputs": [],
      "source": [
        "model = tf.keras.models.Sequential([\n",
        "    # DNN layers\n",
        "    tf.keras.layers.Dense(input_shape, activation='relu'),\n",
        "    tf.keras.layers.Dense(32, activation='relu'),\n",
        "    tf.keras.layers.Dense(16, activation='relu'),\n",
        "    tf.keras.layers.Dense(8, activation='relu'),\n",
        "    tf.keras.layers.Dense(1, activation='sigmoid'),\n",
        "    tf.keras.layers.Dropout(0.2)\n",
        "])"
      ]
    },
    {
      "cell_type": "code",
      "execution_count": null,
      "metadata": {
        "id": "IXGC6AnNTaPf"
      },
      "outputs": [],
      "source": [
        "from tensorflow.python.training.saver import metrics\n",
        "from tensorflow.keras.optimizers import Adam\n",
        "\n",
        "optimizer = Adam(learning_rate=0.0001)\n",
        "model.compile(optimizer=optimizer,\n",
        "              loss=tf.keras.losses.BinaryCrossentropy(),\n",
        "              metrics=[\"accuracy\"])"
      ]
    },
    {
      "cell_type": "code",
      "execution_count": null,
      "metadata": {
        "colab": {
          "base_uri": "https://localhost:8080/"
        },
        "id": "paYciVVZTl8J",
        "outputId": "800724cc-8bd3-4557-8a0e-9654ab9fe014"
      },
      "outputs": [
        {
          "name": "stdout",
          "output_type": "stream",
          "text": [
            "Epoch 1/150\n",
            "4/4 [==============================] - 2s 80ms/step - loss: 5.5729 - accuracy: 0.5263 - val_loss: 0.5794 - val_accuracy: 0.6000\n",
            "Epoch 2/150\n",
            "4/4 [==============================] - 0s 20ms/step - loss: 2.5783 - accuracy: 0.6316 - val_loss: 0.7184 - val_accuracy: 0.6000\n",
            "Epoch 3/150\n",
            "4/4 [==============================] - 0s 19ms/step - loss: 1.6672 - accuracy: 0.7544 - val_loss: 0.5271 - val_accuracy: 0.7500\n",
            "Epoch 4/150\n",
            "4/4 [==============================] - 0s 26ms/step - loss: 2.4072 - accuracy: 0.7544 - val_loss: 0.5473 - val_accuracy: 0.7500\n",
            "Epoch 5/150\n",
            "4/4 [==============================] - 0s 30ms/step - loss: 3.7578 - accuracy: 0.6491 - val_loss: 0.5913 - val_accuracy: 0.7500\n",
            "Epoch 6/150\n",
            "4/4 [==============================] - 0s 19ms/step - loss: 2.0714 - accuracy: 0.8070 - val_loss: 0.6488 - val_accuracy: 0.7000\n",
            "Epoch 7/150\n",
            "4/4 [==============================] - 0s 25ms/step - loss: 1.9272 - accuracy: 0.7895 - val_loss: 0.8266 - val_accuracy: 0.7000\n",
            "Epoch 8/150\n",
            "4/4 [==============================] - 0s 30ms/step - loss: 4.3304 - accuracy: 0.6491 - val_loss: 1.0329 - val_accuracy: 0.6000\n",
            "Epoch 9/150\n",
            "4/4 [==============================] - 0s 32ms/step - loss: 2.1201 - accuracy: 0.6842 - val_loss: 0.8511 - val_accuracy: 0.6500\n",
            "Epoch 10/150\n",
            "4/4 [==============================] - 0s 23ms/step - loss: 2.7406 - accuracy: 0.7018 - val_loss: 0.5738 - val_accuracy: 0.7000\n",
            "Epoch 11/150\n",
            "4/4 [==============================] - 0s 24ms/step - loss: 1.5914 - accuracy: 0.8421 - val_loss: 0.5423 - val_accuracy: 0.7000\n",
            "Epoch 12/150\n",
            "4/4 [==============================] - 0s 25ms/step - loss: 1.0625 - accuracy: 0.8246 - val_loss: 0.6708 - val_accuracy: 0.6500\n",
            "Epoch 13/150\n",
            "4/4 [==============================] - 0s 28ms/step - loss: 1.6103 - accuracy: 0.7895 - val_loss: 0.7241 - val_accuracy: 0.6500\n",
            "Epoch 14/150\n",
            "4/4 [==============================] - 0s 27ms/step - loss: 3.9936 - accuracy: 0.6842 - val_loss: 0.7313 - val_accuracy: 0.6000\n",
            "Epoch 15/150\n",
            "4/4 [==============================] - 0s 27ms/step - loss: 1.8917 - accuracy: 0.7719 - val_loss: 0.6843 - val_accuracy: 0.6500\n",
            "Epoch 16/150\n",
            "4/4 [==============================] - 0s 25ms/step - loss: 1.3719 - accuracy: 0.7895 - val_loss: 0.5821 - val_accuracy: 0.6500\n",
            "Epoch 17/150\n",
            "4/4 [==============================] - 0s 23ms/step - loss: 2.3512 - accuracy: 0.7895 - val_loss: 0.5090 - val_accuracy: 0.7500\n",
            "Epoch 18/150\n",
            "4/4 [==============================] - 0s 24ms/step - loss: 1.0340 - accuracy: 0.8246 - val_loss: 0.4916 - val_accuracy: 0.8000\n",
            "Epoch 19/150\n",
            "4/4 [==============================] - 0s 25ms/step - loss: 1.8348 - accuracy: 0.8070 - val_loss: 0.4946 - val_accuracy: 0.8000\n",
            "Epoch 20/150\n",
            "4/4 [==============================] - 0s 29ms/step - loss: 2.9124 - accuracy: 0.7544 - val_loss: 0.5201 - val_accuracy: 0.7000\n",
            "Epoch 21/150\n",
            "4/4 [==============================] - 0s 24ms/step - loss: 2.6602 - accuracy: 0.7368 - val_loss: 0.5347 - val_accuracy: 0.7500\n",
            "Epoch 22/150\n",
            "4/4 [==============================] - 0s 24ms/step - loss: 2.0941 - accuracy: 0.7895 - val_loss: 0.5111 - val_accuracy: 0.7500\n",
            "Epoch 23/150\n",
            "4/4 [==============================] - 0s 23ms/step - loss: 1.5753 - accuracy: 0.8070 - val_loss: 0.4902 - val_accuracy: 0.7000\n",
            "Epoch 24/150\n",
            "4/4 [==============================] - 0s 29ms/step - loss: 1.7898 - accuracy: 0.8246 - val_loss: 0.4696 - val_accuracy: 0.7500\n",
            "Epoch 25/150\n",
            "4/4 [==============================] - 0s 34ms/step - loss: 1.8209 - accuracy: 0.7895 - val_loss: 0.4688 - val_accuracy: 0.8000\n",
            "Epoch 26/150\n",
            "4/4 [==============================] - 0s 26ms/step - loss: 2.6261 - accuracy: 0.7368 - val_loss: 0.4713 - val_accuracy: 0.8000\n",
            "Epoch 27/150\n",
            "4/4 [==============================] - 0s 41ms/step - loss: 1.0076 - accuracy: 0.8421 - val_loss: 0.4790 - val_accuracy: 0.8000\n",
            "Epoch 28/150\n",
            "4/4 [==============================] - 0s 36ms/step - loss: 1.0161 - accuracy: 0.8772 - val_loss: 0.4927 - val_accuracy: 0.7500\n",
            "Epoch 29/150\n",
            "4/4 [==============================] - 0s 36ms/step - loss: 0.9858 - accuracy: 0.8947 - val_loss: 0.4807 - val_accuracy: 0.8000\n",
            "Epoch 30/150\n",
            "4/4 [==============================] - 0s 39ms/step - loss: 1.5514 - accuracy: 0.8596 - val_loss: 0.4829 - val_accuracy: 0.7500\n",
            "Epoch 31/150\n",
            "4/4 [==============================] - 0s 32ms/step - loss: 1.5139 - accuracy: 0.8421 - val_loss: 0.5014 - val_accuracy: 0.7500\n",
            "Epoch 32/150\n",
            "4/4 [==============================] - 0s 32ms/step - loss: 2.3111 - accuracy: 0.8246 - val_loss: 0.4978 - val_accuracy: 0.7500\n",
            "Epoch 33/150\n",
            "4/4 [==============================] - 0s 38ms/step - loss: 0.9904 - accuracy: 0.8947 - val_loss: 0.4709 - val_accuracy: 0.7500\n",
            "Epoch 34/150\n",
            "4/4 [==============================] - 0s 42ms/step - loss: 0.9776 - accuracy: 0.9123 - val_loss: 0.4590 - val_accuracy: 0.7500\n",
            "Epoch 35/150\n",
            "4/4 [==============================] - 0s 33ms/step - loss: 3.4000 - accuracy: 0.7544 - val_loss: 0.4678 - val_accuracy: 0.7500\n",
            "Epoch 36/150\n",
            "4/4 [==============================] - 0s 38ms/step - loss: 1.2502 - accuracy: 0.8772 - val_loss: 0.4642 - val_accuracy: 0.7500\n",
            "Epoch 37/150\n",
            "4/4 [==============================] - 0s 38ms/step - loss: 3.1076 - accuracy: 0.7895 - val_loss: 0.4532 - val_accuracy: 0.7500\n",
            "Epoch 38/150\n",
            "4/4 [==============================] - 0s 37ms/step - loss: 2.2957 - accuracy: 0.8421 - val_loss: 0.4487 - val_accuracy: 0.7500\n",
            "Epoch 39/150\n",
            "4/4 [==============================] - 0s 33ms/step - loss: 1.2352 - accuracy: 0.8947 - val_loss: 0.4544 - val_accuracy: 0.7500\n",
            "Epoch 40/150\n",
            "4/4 [==============================] - 0s 41ms/step - loss: 1.7722 - accuracy: 0.8596 - val_loss: 0.4547 - val_accuracy: 0.7500\n",
            "Epoch 41/150\n",
            "4/4 [==============================] - 0s 40ms/step - loss: 1.2213 - accuracy: 0.8947 - val_loss: 0.4445 - val_accuracy: 0.8000\n",
            "Epoch 42/150\n",
            "4/4 [==============================] - 0s 37ms/step - loss: 1.2286 - accuracy: 0.8947 - val_loss: 0.4312 - val_accuracy: 0.8000\n",
            "Epoch 43/150\n",
            "4/4 [==============================] - 0s 34ms/step - loss: 2.5460 - accuracy: 0.8070 - val_loss: 0.4314 - val_accuracy: 0.8000\n",
            "Epoch 44/150\n",
            "4/4 [==============================] - 0s 38ms/step - loss: 3.1128 - accuracy: 0.7719 - val_loss: 0.4558 - val_accuracy: 0.7500\n",
            "Epoch 45/150\n",
            "4/4 [==============================] - 0s 37ms/step - loss: 2.0111 - accuracy: 0.8596 - val_loss: 0.4846 - val_accuracy: 0.7500\n",
            "Epoch 46/150\n",
            "4/4 [==============================] - 0s 40ms/step - loss: 1.7544 - accuracy: 0.8596 - val_loss: 0.4870 - val_accuracy: 0.7500\n",
            "Epoch 47/150\n",
            "4/4 [==============================] - 0s 31ms/step - loss: 2.5277 - accuracy: 0.8246 - val_loss: 0.4952 - val_accuracy: 0.7500\n",
            "Epoch 48/150\n",
            "4/4 [==============================] - 0s 28ms/step - loss: 2.2935 - accuracy: 0.8246 - val_loss: 0.4827 - val_accuracy: 0.7500\n",
            "Epoch 49/150\n",
            "4/4 [==============================] - 0s 23ms/step - loss: 1.9867 - accuracy: 0.8596 - val_loss: 0.4549 - val_accuracy: 0.8000\n",
            "Epoch 50/150\n",
            "4/4 [==============================] - 0s 30ms/step - loss: 1.4859 - accuracy: 0.8772 - val_loss: 0.4730 - val_accuracy: 0.7500\n",
            "Epoch 51/150\n",
            "4/4 [==============================] - 0s 25ms/step - loss: 0.9144 - accuracy: 0.9298 - val_loss: 0.4861 - val_accuracy: 0.7500\n",
            "Epoch 52/150\n",
            "4/4 [==============================] - 0s 24ms/step - loss: 1.1852 - accuracy: 0.9123 - val_loss: 0.4767 - val_accuracy: 0.7500\n",
            "Epoch 53/150\n",
            "4/4 [==============================] - 0s 23ms/step - loss: 2.2742 - accuracy: 0.8246 - val_loss: 0.4643 - val_accuracy: 0.8000\n",
            "Epoch 54/150\n",
            "4/4 [==============================] - 0s 27ms/step - loss: 2.7740 - accuracy: 0.8246 - val_loss: 0.4955 - val_accuracy: 0.7500\n",
            "Epoch 55/150\n",
            "4/4 [==============================] - 0s 28ms/step - loss: 1.7518 - accuracy: 0.8421 - val_loss: 0.5295 - val_accuracy: 0.7500\n",
            "Epoch 56/150\n",
            "4/4 [==============================] - 0s 23ms/step - loss: 1.4312 - accuracy: 0.8947 - val_loss: 0.4541 - val_accuracy: 0.8500\n",
            "Epoch 57/150\n",
            "4/4 [==============================] - 0s 29ms/step - loss: 1.4548 - accuracy: 0.8772 - val_loss: 0.4411 - val_accuracy: 0.8000\n",
            "Epoch 58/150\n",
            "4/4 [==============================] - 0s 23ms/step - loss: 2.5371 - accuracy: 0.8070 - val_loss: 0.4501 - val_accuracy: 0.8500\n",
            "Epoch 59/150\n",
            "4/4 [==============================] - 0s 22ms/step - loss: 1.9815 - accuracy: 0.8596 - val_loss: 0.5392 - val_accuracy: 0.7500\n",
            "Epoch 60/150\n",
            "4/4 [==============================] - 0s 26ms/step - loss: 1.9853 - accuracy: 0.8421 - val_loss: 0.5418 - val_accuracy: 0.7500\n",
            "Epoch 61/150\n",
            "4/4 [==============================] - 0s 22ms/step - loss: 1.9932 - accuracy: 0.8421 - val_loss: 0.4961 - val_accuracy: 0.8000\n",
            "Epoch 62/150\n",
            "4/4 [==============================] - 0s 20ms/step - loss: 1.1746 - accuracy: 0.8947 - val_loss: 0.4349 - val_accuracy: 0.8000\n",
            "Epoch 63/150\n",
            "4/4 [==============================] - 0s 19ms/step - loss: 1.7353 - accuracy: 0.8772 - val_loss: 0.4378 - val_accuracy: 0.8500\n",
            "Epoch 64/150\n",
            "4/4 [==============================] - 0s 25ms/step - loss: 2.2534 - accuracy: 0.8421 - val_loss: 0.4869 - val_accuracy: 0.7500\n",
            "Epoch 65/150\n",
            "4/4 [==============================] - 0s 20ms/step - loss: 2.7840 - accuracy: 0.8070 - val_loss: 0.5277 - val_accuracy: 0.7500\n",
            "Epoch 66/150\n",
            "4/4 [==============================] - 0s 20ms/step - loss: 3.0496 - accuracy: 0.7895 - val_loss: 0.5247 - val_accuracy: 0.7500\n",
            "Epoch 67/150\n",
            "4/4 [==============================] - 0s 19ms/step - loss: 1.9838 - accuracy: 0.8596 - val_loss: 0.5177 - val_accuracy: 0.7500\n",
            "Epoch 68/150\n",
            "4/4 [==============================] - 0s 26ms/step - loss: 1.4447 - accuracy: 0.8772 - val_loss: 0.4788 - val_accuracy: 0.8000\n",
            "Epoch 69/150\n",
            "4/4 [==============================] - 0s 20ms/step - loss: 1.4323 - accuracy: 0.8772 - val_loss: 0.4462 - val_accuracy: 0.8500\n",
            "Epoch 70/150\n",
            "4/4 [==============================] - 0s 19ms/step - loss: 1.1684 - accuracy: 0.8947 - val_loss: 0.4784 - val_accuracy: 0.8000\n",
            "Epoch 71/150\n",
            "4/4 [==============================] - 0s 20ms/step - loss: 1.9772 - accuracy: 0.8596 - val_loss: 0.4916 - val_accuracy: 0.8000\n",
            "Epoch 72/150\n",
            "4/4 [==============================] - 0s 22ms/step - loss: 1.1678 - accuracy: 0.9123 - val_loss: 0.5043 - val_accuracy: 0.8000\n",
            "Epoch 73/150\n",
            "4/4 [==============================] - 0s 26ms/step - loss: 1.9599 - accuracy: 0.8596 - val_loss: 0.5227 - val_accuracy: 0.7500\n",
            "Epoch 74/150\n",
            "4/4 [==============================] - 0s 31ms/step - loss: 2.2381 - accuracy: 0.8246 - val_loss: 0.5079 - val_accuracy: 0.8000\n",
            "Epoch 75/150\n",
            "4/4 [==============================] - 0s 29ms/step - loss: 1.4276 - accuracy: 0.8772 - val_loss: 0.4702 - val_accuracy: 0.8000\n",
            "Epoch 76/150\n",
            "4/4 [==============================] - 0s 30ms/step - loss: 1.4233 - accuracy: 0.8947 - val_loss: 0.4821 - val_accuracy: 0.8000\n",
            "Epoch 77/150\n",
            "4/4 [==============================] - 0s 23ms/step - loss: 2.2066 - accuracy: 0.8596 - val_loss: 0.5152 - val_accuracy: 0.8000\n",
            "Epoch 78/150\n",
            "4/4 [==============================] - 0s 27ms/step - loss: 1.6868 - accuracy: 0.8772 - val_loss: 0.5329 - val_accuracy: 0.7500\n",
            "Epoch 79/150\n",
            "4/4 [==============================] - 0s 32ms/step - loss: 2.2290 - accuracy: 0.8421 - val_loss: 0.5109 - val_accuracy: 0.8000\n",
            "Epoch 80/150\n",
            "4/4 [==============================] - 0s 26ms/step - loss: 1.1437 - accuracy: 0.9123 - val_loss: 0.4965 - val_accuracy: 0.8000\n",
            "Epoch 81/150\n",
            "4/4 [==============================] - 0s 24ms/step - loss: 1.9559 - accuracy: 0.8596 - val_loss: 0.4736 - val_accuracy: 0.8000\n",
            "Epoch 82/150\n",
            "4/4 [==============================] - 0s 29ms/step - loss: 1.6903 - accuracy: 0.8772 - val_loss: 0.5135 - val_accuracy: 0.8000\n",
            "Epoch 83/150\n",
            "4/4 [==============================] - 0s 25ms/step - loss: 1.9881 - accuracy: 0.8421 - val_loss: 0.5372 - val_accuracy: 0.7500\n",
            "Epoch 84/150\n",
            "4/4 [==============================] - 0s 26ms/step - loss: 2.2411 - accuracy: 0.8246 - val_loss: 0.4802 - val_accuracy: 0.8500\n",
            "Epoch 85/150\n",
            "4/4 [==============================] - 0s 24ms/step - loss: 2.2209 - accuracy: 0.8596 - val_loss: 0.4403 - val_accuracy: 0.8500\n",
            "Epoch 86/150\n",
            "4/4 [==============================] - 0s 24ms/step - loss: 2.2432 - accuracy: 0.8596 - val_loss: 0.4772 - val_accuracy: 0.8000\n",
            "Epoch 87/150\n",
            "4/4 [==============================] - 0s 25ms/step - loss: 2.7612 - accuracy: 0.8246 - val_loss: 0.5335 - val_accuracy: 0.8000\n",
            "Epoch 88/150\n",
            "4/4 [==============================] - 0s 28ms/step - loss: 1.1506 - accuracy: 0.8947 - val_loss: 0.5612 - val_accuracy: 0.7500\n",
            "Epoch 89/150\n",
            "4/4 [==============================] - 0s 27ms/step - loss: 2.5069 - accuracy: 0.8070 - val_loss: 0.4955 - val_accuracy: 0.8000\n",
            "Epoch 90/150\n",
            "4/4 [==============================] - 0s 24ms/step - loss: 1.9586 - accuracy: 0.8596 - val_loss: 0.4843 - val_accuracy: 0.8000\n",
            "Epoch 91/150\n",
            "4/4 [==============================] - 0s 27ms/step - loss: 4.3836 - accuracy: 0.7018 - val_loss: 0.5168 - val_accuracy: 0.8000\n",
            "Epoch 92/150\n",
            "4/4 [==============================] - 0s 25ms/step - loss: 1.9548 - accuracy: 0.8596 - val_loss: 0.5732 - val_accuracy: 0.7500\n",
            "Epoch 93/150\n",
            "4/4 [==============================] - 0s 24ms/step - loss: 1.9430 - accuracy: 0.8596 - val_loss: 0.5217 - val_accuracy: 0.8000\n",
            "Epoch 94/150\n",
            "4/4 [==============================] - 0s 29ms/step - loss: 3.0230 - accuracy: 0.8070 - val_loss: 0.5037 - val_accuracy: 0.8000\n",
            "Epoch 95/150\n",
            "4/4 [==============================] - 0s 23ms/step - loss: 1.9528 - accuracy: 0.8421 - val_loss: 0.5161 - val_accuracy: 0.8000\n",
            "Epoch 96/150\n",
            "4/4 [==============================] - 0s 27ms/step - loss: 2.7472 - accuracy: 0.8246 - val_loss: 0.5255 - val_accuracy: 0.8000\n",
            "Epoch 97/150\n",
            "4/4 [==============================] - 0s 23ms/step - loss: 2.2172 - accuracy: 0.8421 - val_loss: 0.5092 - val_accuracy: 0.8000\n",
            "Epoch 98/150\n",
            "4/4 [==============================] - 0s 27ms/step - loss: 0.8639 - accuracy: 0.9474 - val_loss: 0.4938 - val_accuracy: 0.8000\n",
            "Epoch 99/150\n",
            "4/4 [==============================] - 0s 24ms/step - loss: 1.4066 - accuracy: 0.9123 - val_loss: 0.5116 - val_accuracy: 0.8000\n",
            "Epoch 100/150\n",
            "4/4 [==============================] - 0s 30ms/step - loss: 1.1172 - accuracy: 0.9298 - val_loss: 0.5390 - val_accuracy: 0.8000\n",
            "Epoch 101/150\n",
            "4/4 [==============================] - 0s 23ms/step - loss: 2.4956 - accuracy: 0.8246 - val_loss: 0.5623 - val_accuracy: 0.8000\n",
            "Epoch 102/150\n",
            "4/4 [==============================] - 0s 24ms/step - loss: 1.1476 - accuracy: 0.9123 - val_loss: 0.4884 - val_accuracy: 0.8500\n",
            "Epoch 103/150\n",
            "4/4 [==============================] - 0s 32ms/step - loss: 2.7465 - accuracy: 0.8246 - val_loss: 0.5031 - val_accuracy: 0.8500\n",
            "Epoch 104/150\n",
            "4/4 [==============================] - 0s 23ms/step - loss: 2.4767 - accuracy: 0.8421 - val_loss: 0.5463 - val_accuracy: 0.8000\n",
            "Epoch 105/150\n",
            "4/4 [==============================] - 0s 24ms/step - loss: 1.6716 - accuracy: 0.8772 - val_loss: 0.5323 - val_accuracy: 0.8000\n",
            "Epoch 106/150\n",
            "4/4 [==============================] - 0s 26ms/step - loss: 2.4691 - accuracy: 0.8246 - val_loss: 0.5221 - val_accuracy: 0.8000\n",
            "Epoch 107/150\n",
            "4/4 [==============================] - 0s 27ms/step - loss: 0.5785 - accuracy: 0.9649 - val_loss: 0.5062 - val_accuracy: 0.8000\n",
            "Epoch 108/150\n",
            "4/4 [==============================] - 0s 27ms/step - loss: 1.1311 - accuracy: 0.9298 - val_loss: 0.5207 - val_accuracy: 0.8000\n",
            "Epoch 109/150\n",
            "4/4 [==============================] - 0s 28ms/step - loss: 1.9322 - accuracy: 0.8772 - val_loss: 0.5362 - val_accuracy: 0.8000\n",
            "Epoch 110/150\n",
            "4/4 [==============================] - 0s 23ms/step - loss: 1.3923 - accuracy: 0.9123 - val_loss: 0.5511 - val_accuracy: 0.8000\n",
            "Epoch 111/150\n",
            "4/4 [==============================] - 0s 24ms/step - loss: 3.2818 - accuracy: 0.7895 - val_loss: 0.5845 - val_accuracy: 0.8000\n",
            "Epoch 112/150\n",
            "4/4 [==============================] - 0s 24ms/step - loss: 2.7471 - accuracy: 0.8070 - val_loss: 0.5804 - val_accuracy: 0.8000\n",
            "Epoch 113/150\n",
            "4/4 [==============================] - 0s 29ms/step - loss: 2.2049 - accuracy: 0.8596 - val_loss: 0.5360 - val_accuracy: 0.8000\n",
            "Epoch 114/150\n",
            "4/4 [==============================] - 0s 29ms/step - loss: 1.1286 - accuracy: 0.9298 - val_loss: 0.5364 - val_accuracy: 0.8000\n",
            "Epoch 115/150\n",
            "4/4 [==============================] - 0s 23ms/step - loss: 1.6466 - accuracy: 0.8947 - val_loss: 0.6270 - val_accuracy: 0.7500\n",
            "Epoch 116/150\n",
            "4/4 [==============================] - 0s 25ms/step - loss: 1.6592 - accuracy: 0.8772 - val_loss: 0.6190 - val_accuracy: 0.7500\n",
            "Epoch 117/150\n",
            "4/4 [==============================] - 0s 23ms/step - loss: 2.2048 - accuracy: 0.8596 - val_loss: 0.5393 - val_accuracy: 0.8000\n",
            "Epoch 118/150\n",
            "4/4 [==============================] - 0s 23ms/step - loss: 2.4757 - accuracy: 0.8421 - val_loss: 0.4878 - val_accuracy: 0.8500\n",
            "Epoch 119/150\n",
            "4/4 [==============================] - 0s 25ms/step - loss: 2.2061 - accuracy: 0.8596 - val_loss: 0.5608 - val_accuracy: 0.8000\n",
            "Epoch 120/150\n",
            "4/4 [==============================] - 0s 30ms/step - loss: 1.6485 - accuracy: 0.8947 - val_loss: 0.6452 - val_accuracy: 0.7500\n",
            "Epoch 121/150\n",
            "4/4 [==============================] - 0s 24ms/step - loss: 1.6585 - accuracy: 0.8772 - val_loss: 0.5964 - val_accuracy: 0.8000\n",
            "Epoch 122/150\n",
            "4/4 [==============================] - 0s 28ms/step - loss: 1.9294 - accuracy: 0.8772 - val_loss: 0.5434 - val_accuracy: 0.8000\n",
            "Epoch 123/150\n",
            "4/4 [==============================] - 0s 27ms/step - loss: 1.9211 - accuracy: 0.8772 - val_loss: 0.5439 - val_accuracy: 0.8000\n",
            "Epoch 124/150\n",
            "4/4 [==============================] - 0s 23ms/step - loss: 0.8459 - accuracy: 0.9474 - val_loss: 0.5719 - val_accuracy: 0.8000\n",
            "Epoch 125/150\n",
            "4/4 [==============================] - 0s 23ms/step - loss: 0.8520 - accuracy: 0.9474 - val_loss: 0.6301 - val_accuracy: 0.8000\n",
            "Epoch 126/150\n",
            "4/4 [==============================] - 0s 30ms/step - loss: 0.3048 - accuracy: 0.9825 - val_loss: 0.5434 - val_accuracy: 0.8000\n",
            "Epoch 127/150\n",
            "4/4 [==============================] - 0s 22ms/step - loss: 2.2008 - accuracy: 0.8596 - val_loss: 0.5698 - val_accuracy: 0.8000\n",
            "Epoch 128/150\n",
            "4/4 [==============================] - 0s 23ms/step - loss: 0.5620 - accuracy: 0.9649 - val_loss: 0.5969 - val_accuracy: 0.8000\n",
            "Epoch 129/150\n",
            "4/4 [==============================] - 0s 27ms/step - loss: 1.3757 - accuracy: 0.9123 - val_loss: 0.6140 - val_accuracy: 0.8000\n",
            "Epoch 130/150\n",
            "4/4 [==============================] - 0s 24ms/step - loss: 1.3794 - accuracy: 0.9123 - val_loss: 0.5785 - val_accuracy: 0.8000\n",
            "Epoch 131/150\n",
            "4/4 [==============================] - 0s 25ms/step - loss: 2.4601 - accuracy: 0.8421 - val_loss: 0.5574 - val_accuracy: 0.8000\n",
            "Epoch 132/150\n",
            "4/4 [==============================] - 0s 28ms/step - loss: 1.0988 - accuracy: 0.9298 - val_loss: 0.5901 - val_accuracy: 0.8000\n",
            "Epoch 133/150\n",
            "4/4 [==============================] - 0s 27ms/step - loss: 1.9196 - accuracy: 0.8772 - val_loss: 0.5934 - val_accuracy: 0.8000\n",
            "Epoch 134/150\n",
            "4/4 [==============================] - 0s 20ms/step - loss: 2.4583 - accuracy: 0.8421 - val_loss: 0.6203 - val_accuracy: 0.8000\n",
            "Epoch 135/150\n",
            "4/4 [==============================] - 0s 21ms/step - loss: 2.4497 - accuracy: 0.8421 - val_loss: 0.6215 - val_accuracy: 0.8000\n",
            "Epoch 136/150\n",
            "4/4 [==============================] - 0s 22ms/step - loss: 0.8274 - accuracy: 0.9474 - val_loss: 0.5739 - val_accuracy: 0.8500\n",
            "Epoch 137/150\n",
            "4/4 [==============================] - 0s 21ms/step - loss: 1.3701 - accuracy: 0.9123 - val_loss: 0.5726 - val_accuracy: 0.8500\n",
            "Epoch 138/150\n",
            "4/4 [==============================] - 0s 20ms/step - loss: 1.6433 - accuracy: 0.8947 - val_loss: 0.6131 - val_accuracy: 0.8000\n",
            "Epoch 139/150\n",
            "4/4 [==============================] - 0s 28ms/step - loss: 2.1850 - accuracy: 0.8596 - val_loss: 0.6561 - val_accuracy: 0.8000\n",
            "Epoch 140/150\n",
            "4/4 [==============================] - 0s 22ms/step - loss: 2.1813 - accuracy: 0.8596 - val_loss: 0.6031 - val_accuracy: 0.8000\n",
            "Epoch 141/150\n",
            "4/4 [==============================] - 0s 21ms/step - loss: 1.6447 - accuracy: 0.8947 - val_loss: 0.5843 - val_accuracy: 0.8000\n",
            "Epoch 142/150\n",
            "4/4 [==============================] - 0s 25ms/step - loss: 1.9102 - accuracy: 0.8772 - val_loss: 0.6170 - val_accuracy: 0.8000\n",
            "Epoch 143/150\n",
            "4/4 [==============================] - 0s 21ms/step - loss: 2.7218 - accuracy: 0.8246 - val_loss: 0.6156 - val_accuracy: 0.8000\n",
            "Epoch 144/150\n",
            "4/4 [==============================] - 0s 24ms/step - loss: 2.4489 - accuracy: 0.8421 - val_loss: 0.6135 - val_accuracy: 0.8000\n",
            "Epoch 145/150\n",
            "4/4 [==============================] - 0s 24ms/step - loss: 1.0946 - accuracy: 0.9298 - val_loss: 0.6166 - val_accuracy: 0.8000\n",
            "Epoch 146/150\n",
            "4/4 [==============================] - 0s 26ms/step - loss: 1.3666 - accuracy: 0.9123 - val_loss: 0.6048 - val_accuracy: 0.8000\n",
            "Epoch 147/150\n",
            "4/4 [==============================] - 0s 21ms/step - loss: 1.9024 - accuracy: 0.8772 - val_loss: 0.6411 - val_accuracy: 0.8000\n",
            "Epoch 148/150\n",
            "4/4 [==============================] - 0s 26ms/step - loss: 0.5585 - accuracy: 0.9649 - val_loss: 0.6473 - val_accuracy: 0.8000\n",
            "Epoch 149/150\n",
            "4/4 [==============================] - 0s 25ms/step - loss: 2.1767 - accuracy: 0.8596 - val_loss: 0.6186 - val_accuracy: 0.8000\n",
            "Epoch 150/150\n",
            "4/4 [==============================] - 0s 35ms/step - loss: 2.9869 - accuracy: 0.8070 - val_loss: 0.5855 - val_accuracy: 0.8500\n"
          ]
        }
      ],
      "source": [
        "NUM_EPOCHS = 150\n",
        "\n",
        "history = model.fit(\n",
        "      x = X_train,\n",
        "      y = y_train,\n",
        "      epochs = NUM_EPOCHS,\n",
        "      batch_size=16,\n",
        "      verbose = 1,\n",
        "      validation_data=(X_valid, y_valid))"
      ]
    },
    {
      "cell_type": "code",
      "execution_count": null,
      "metadata": {
        "colab": {
          "base_uri": "https://localhost:8080/"
        },
        "id": "R0RDeOQKDFbq",
        "outputId": "345e2fb9-0dc3-460b-eafc-2e65a65b1fe9"
      },
      "outputs": [
        {
          "name": "stdout",
          "output_type": "stream",
          "text": [
            "1/1 [==============================] - 0s 35ms/step - loss: 0.4795 - accuracy: 0.9000\n"
          ]
        },
        {
          "data": {
            "text/plain": [
              "[0.47951340675354004, 0.8999999761581421]"
            ]
          },
          "execution_count": 100,
          "metadata": {},
          "output_type": "execute_result"
        }
      ],
      "source": [
        "model.evaluate(X_test, y_test)"
      ]
    },
    {
      "cell_type": "code",
      "execution_count": null,
      "metadata": {
        "colab": {
          "base_uri": "https://localhost:8080/"
        },
        "id": "5-zwuYAgCo8N",
        "outputId": "42374027-7b5a-424a-f1b8-068495bd3779"
      },
      "outputs": [
        {
          "name": "stdout",
          "output_type": "stream",
          "text": [
            "1/1 [==============================] - 0s 83ms/step\n",
            "[1 0 1 1 1 1 1 1 1 1 1 0 0 1 0 0 0 0 0 0]\n",
            "[1 0 1 0 1 1 1 1 1 1 1 0 0 1 0 1 0 0 0 0]\n"
          ]
        }
      ],
      "source": [
        "predictions = []\n",
        "for value in (model.predict(X_test)>=0.5).astype(int):\n",
        "  predictions.append(value[0])\n",
        "predictions = np.array(predictions)\n",
        "actual = y_test\n",
        "\n",
        "print(predictions)\n",
        "print(actual)"
      ]
    },
    {
      "cell_type": "code",
      "execution_count": null,
      "metadata": {
        "colab": {
          "base_uri": "https://localhost:8080/",
          "height": 448
        },
        "id": "v-2a7j-pTl5y",
        "outputId": "93eb597b-85c7-4852-b4a3-0c2f97fb5ab1"
      },
      "outputs": [
        {
          "data": {
            "image/png": "[encoded data removed]",
            "text/plain": [
              "<Figure size 640x480 with 1 Axes>"
            ]
          },
          "metadata": {},
          "output_type": "display_data"
        }
      ],
      "source": [
        "def moving_average(x, w):\n",
        "    return np.convolve(x, np.ones(w), 'valid') / w\n",
        "\n",
        "AVERAGING = 20\n",
        "\n",
        "train_accs = history.history['accuracy']\n",
        "train_graph = moving_average(train_accs, AVERAGING)\n",
        "epoch_range = [x + 1 for x in range(len(train_graph))]\n",
        "\n",
        "validation_accs = history.history['val_accuracy']\n",
        "val_graph = moving_average(validation_accs, AVERAGING)\n",
        "epoch_range = [x + 1 for x in range(len(val_graph))]\n",
        "\n",
        "plt.plot(np.asarray(epoch_range).astype(str), train_graph, label='Training Accuracy')\n",
        "plt.plot(np.asarray(epoch_range).astype(str), val_graph, label='Validation Accuracy')\n",
        "plt.xticks([])\n",
        "plt.title('Fake News Classifier with BERT')\n",
        "plt.xlabel('Epochs')\n",
        "plt.ylabel('Accuracy')\n",
        "plt.legend(loc='lower right')\n",
        "plt.show()"
      ]
    },
    {
      "cell_type": "code",
      "execution_count": null,
      "metadata": {
        "colab": {
          "base_uri": "https://localhost:8080/"
        },
        "id": "_nO9xA3Zpm0k",
        "outputId": "445decfa-0a84-4e7d-fe06-352a5d1a396e"
      },
      "outputs": [
        {
          "name": "stdout",
          "output_type": "stream",
          "text": [
            "1/1 [==============================] - 0s 32ms/step\n",
            "0.9090909090909091\n",
            "              precision    recall  f1-score   support\n",
            "\n",
            "           0       0.89      0.89      0.89         9\n",
            "           1       0.91      0.91      0.91        11\n",
            "\n",
            "    accuracy                           0.90        20\n",
            "   macro avg       0.90      0.90      0.90        20\n",
            "weighted avg       0.90      0.90      0.90        20\n",
            "\n"
          ]
        }
      ],
      "source": [
        "predictions = []\n",
        "for value in (model.predict(X_test)>=0.5).astype(int):\n",
        "  predictions.append(value[0])\n",
        "predictions = np.array(predictions)\n",
        "actual = y_test\n",
        "\n",
        "print(classification_report(actual, predictions))"
      ]
    },
    {
      "cell_type": "code",
      "execution_count": null,
      "metadata": {
        "colab": {
          "base_uri": "https://localhost:8080/",
          "height": 455
        },
        "id": "kw0g9lH2qfGP",
        "outputId": "2eb88d32-6eb9-4adc-f630-ca49ba6531ab"
      },
      "outputs": [
        {
          "data": {
            "image/png": "[encoded data removed]",
            "text/plain": [
              "<Figure size 640x480 with 2 Axes>"
            ]
          },
          "metadata": {},
          "output_type": "display_data"
        }
      ],
      "source": [
        "# confusion matrix\n",
        "cm = confusion_matrix(actual, predictions, labels=[0,1])\n",
        "disp = ConfusionMatrixDisplay(confusion_matrix=cm, display_labels=[\"Fake\", \"Real\"])\n",
        "disp.plot()\n",
        "plt.show()"
      ]
    },
    {
      "cell_type": "code",
      "execution_count": null,
      "metadata": {
        "id": "MWm0LBLCDq7q"
      },
      "outputs": [],
      "source": [
        "#model.save(\"fake_news_classification_model\")"
      ]
    },
    {
      "cell_type": "code",
      "execution_count": null,
      "metadata": {
        "id": "WPk0yT9EElWc"
      },
      "outputs": [],
      "source": [
        "#!zip -r fake_news_classification_model.zip fake_news_classification_model\n",
        "\n",
        "#from google.colab import files\n",
        "#files.download(\"/content/fake_news_classification_model.zip\")"
      ]
    }
  ],
  "metadata": {
    "colab": {
      "provenance": []
    },
    "kernelspec": {
      "display_name": "Python 3",
      "name": "python3"
    },
    "language_info": {
      "name": "python"
    }
  },
  "nbformat": 4,
  "nbformat_minor": 0
}
