{
  "cells": [
    {
      "cell_type": "code",
      "execution_count": 5,
      "metadata": {
        "id": "8UPgncdyTWTU"
      },
      "outputs": [
        {
          "ename": "RuntimeError",
          "evalue": "Failed to import transformers.models.bert.modeling_tf_bert because of the following error (look up to see its traceback):\nNo module named 'keras.__internal__'",
          "output_type": "error",
          "traceback": [
            "\u001b[0;31m---------------------------------------------------------------------------\u001b[0m",
            "\u001b[0;31mModuleNotFoundError\u001b[0m                       Traceback (most recent call last)",
            "File \u001b[0;32m/opt/homebrew/lib/python3.11/site-packages/transformers/utils/import_utils.py:1086\u001b[0m, in \u001b[0;36m_LazyModule._get_module\u001b[0;34m(self, module_name)\u001b[0m\n\u001b[1;32m   1085\u001b[0m \u001b[39mtry\u001b[39;00m:\n\u001b[0;32m-> 1086\u001b[0m     \u001b[39mreturn\u001b[39;00m importlib\u001b[39m.\u001b[39;49mimport_module(\u001b[39m\"\u001b[39;49m\u001b[39m.\u001b[39;49m\u001b[39m\"\u001b[39;49m \u001b[39m+\u001b[39;49m module_name, \u001b[39mself\u001b[39;49m\u001b[39m.\u001b[39;49m\u001b[39m__name__\u001b[39;49m)\n\u001b[1;32m   1087\u001b[0m \u001b[39mexcept\u001b[39;00m \u001b[39mException\u001b[39;00m \u001b[39mas\u001b[39;00m e:\n",
            "File \u001b[0;32m/opt/homebrew/Cellar/python@3.11/3.11.3/Frameworks/Python.framework/Versions/3.11/lib/python3.11/importlib/__init__.py:126\u001b[0m, in \u001b[0;36mimport_module\u001b[0;34m(name, package)\u001b[0m\n\u001b[1;32m    125\u001b[0m         level \u001b[39m+\u001b[39m\u001b[39m=\u001b[39m \u001b[39m1\u001b[39m\n\u001b[0;32m--> 126\u001b[0m \u001b[39mreturn\u001b[39;00m _bootstrap\u001b[39m.\u001b[39;49m_gcd_import(name[level:], package, level)\n",
            "File \u001b[0;32m<frozen importlib._bootstrap>:1206\u001b[0m, in \u001b[0;36m_gcd_import\u001b[0;34m(name, package, level)\u001b[0m\n",
            "File \u001b[0;32m<frozen importlib._bootstrap>:1178\u001b[0m, in \u001b[0;36m_find_and_load\u001b[0;34m(name, import_)\u001b[0m\n",
            "File \u001b[0;32m<frozen importlib._bootstrap>:1149\u001b[0m, in \u001b[0;36m_find_and_load_unlocked\u001b[0;34m(name, import_)\u001b[0m\n",
            "File \u001b[0;32m<frozen importlib._bootstrap>:690\u001b[0m, in \u001b[0;36m_load_unlocked\u001b[0;34m(spec)\u001b[0m\n",
            "File \u001b[0;32m<frozen importlib._bootstrap_external>:940\u001b[0m, in \u001b[0;36mexec_module\u001b[0;34m(self, module)\u001b[0m\n",
            "File \u001b[0;32m<frozen importlib._bootstrap>:241\u001b[0m, in \u001b[0;36m_call_with_frames_removed\u001b[0;34m(f, *args, **kwds)\u001b[0m\n",
            "File \u001b[0;32m/opt/homebrew/lib/python3.11/site-packages/transformers/models/bert/modeling_tf_bert.py:41\u001b[0m\n\u001b[1;32m     30\u001b[0m \u001b[39mfrom\u001b[39;00m \u001b[39m.\u001b[39;00m\u001b[39m.\u001b[39;00m\u001b[39m.\u001b[39;00m\u001b[39mmodeling_tf_outputs\u001b[39;00m \u001b[39mimport\u001b[39;00m (\n\u001b[1;32m     31\u001b[0m     TFBaseModelOutputWithPastAndCrossAttentions,\n\u001b[1;32m     32\u001b[0m     TFBaseModelOutputWithPoolingAndCrossAttentions,\n\u001b[0;32m   (...)\u001b[0m\n\u001b[1;32m     39\u001b[0m     TFTokenClassifierOutput,\n\u001b[1;32m     40\u001b[0m )\n\u001b[0;32m---> 41\u001b[0m \u001b[39mfrom\u001b[39;00m \u001b[39m.\u001b[39;00m\u001b[39m.\u001b[39;00m\u001b[39m.\u001b[39;00m\u001b[39mmodeling_tf_utils\u001b[39;00m \u001b[39mimport\u001b[39;00m (\n\u001b[1;32m     42\u001b[0m     TFCausalLanguageModelingLoss,\n\u001b[1;32m     43\u001b[0m     TFMaskedLanguageModelingLoss,\n\u001b[1;32m     44\u001b[0m     TFModelInputType,\n\u001b[1;32m     45\u001b[0m     TFMultipleChoiceLoss,\n\u001b[1;32m     46\u001b[0m     TFNextSentencePredictionLoss,\n\u001b[1;32m     47\u001b[0m     TFPreTrainedModel,\n\u001b[1;32m     48\u001b[0m     TFQuestionAnsweringLoss,\n\u001b[1;32m     49\u001b[0m     TFSequenceClassificationLoss,\n\u001b[1;32m     50\u001b[0m     TFTokenClassificationLoss,\n\u001b[1;32m     51\u001b[0m     get_initializer,\n\u001b[1;32m     52\u001b[0m     keras_serializable,\n\u001b[1;32m     53\u001b[0m     unpack_inputs,\n\u001b[1;32m     54\u001b[0m )\n\u001b[1;32m     55\u001b[0m \u001b[39mfrom\u001b[39;00m \u001b[39m.\u001b[39;00m\u001b[39m.\u001b[39;00m\u001b[39m.\u001b[39;00m\u001b[39mtf_utils\u001b[39;00m \u001b[39mimport\u001b[39;00m check_embeddings_within_bounds, shape_list, stable_softmax\n",
            "File \u001b[0;32m/opt/homebrew/lib/python3.11/site-packages/transformers/modeling_tf_utils.py:76\u001b[0m\n\u001b[1;32m     75\u001b[0m \u001b[39mfrom\u001b[39;00m \u001b[39mkeras\u001b[39;00m \u001b[39mimport\u001b[39;00m backend \u001b[39mas\u001b[39;00m K\n\u001b[0;32m---> 76\u001b[0m \u001b[39mfrom\u001b[39;00m \u001b[39mkeras\u001b[39;00m\u001b[39m.\u001b[39;00m\u001b[39m__internal__\u001b[39;00m \u001b[39mimport\u001b[39;00m KerasTensor\n\u001b[1;32m     77\u001b[0m \u001b[39mfrom\u001b[39;00m \u001b[39mkeras\u001b[39;00m\u001b[39m.\u001b[39;00m\u001b[39msrc\u001b[39;00m\u001b[39m.\u001b[39;00m\u001b[39mengine\u001b[39;00m\u001b[39m.\u001b[39;00m\u001b[39mbase_layer_utils\u001b[39;00m \u001b[39mimport\u001b[39;00m call_context\n",
            "\u001b[0;31mModuleNotFoundError\u001b[0m: No module named 'keras.__internal__'",
            "\nThe above exception was the direct cause of the following exception:\n",
            "\u001b[0;31mRuntimeError\u001b[0m                              Traceback (most recent call last)",
            "Cell \u001b[0;32mIn[5], line 1\u001b[0m\n\u001b[0;32m----> 1\u001b[0m \u001b[39mfrom\u001b[39;00m \u001b[39mclassification\u001b[39;00m \u001b[39mimport\u001b[39;00m Pipeline\n\u001b[1;32m      2\u001b[0m \u001b[39mimport\u001b[39;00m \u001b[39mtensorflow\u001b[39;00m \u001b[39mas\u001b[39;00m \u001b[39mtf\u001b[39;00m\n\u001b[1;32m      3\u001b[0m \u001b[39mfrom\u001b[39;00m \u001b[39mtensorflow\u001b[39;00m\u001b[39m.\u001b[39;00m\u001b[39mkeras\u001b[39;00m \u001b[39mimport\u001b[39;00m datasets, layers, models\n",
            "File \u001b[0;32m~/Documents/TestCode/COMP9491/ducknewsreporter/src/classification.py:14\u001b[0m\n\u001b[1;32m     12\u001b[0m \u001b[39mfrom\u001b[39;00m \u001b[39msklearn\u001b[39;00m\u001b[39m.\u001b[39;00m\u001b[39mtree\u001b[39;00m \u001b[39mimport\u001b[39;00m DecisionTreeClassifier\n\u001b[1;32m     13\u001b[0m \u001b[39mfrom\u001b[39;00m \u001b[39mtqdm\u001b[39;00m \u001b[39mimport\u001b[39;00m tqdm\n\u001b[0;32m---> 14\u001b[0m \u001b[39mfrom\u001b[39;00m \u001b[39mtransformers\u001b[39;00m \u001b[39mimport\u001b[39;00m BertTokenizer, TFBertModel\n\u001b[1;32m     15\u001b[0m \u001b[39mfrom\u001b[39;00m \u001b[39mxgboost\u001b[39;00m \u001b[39mimport\u001b[39;00m XGBClassifier\n\u001b[1;32m     17\u001b[0m \u001b[39mfrom\u001b[39;00m \u001b[39mdataset\u001b[39;00m \u001b[39mimport\u001b[39;00m DatasetLoader\n",
            "File \u001b[0;32m<frozen importlib._bootstrap>:1231\u001b[0m, in \u001b[0;36m_handle_fromlist\u001b[0;34m(module, fromlist, import_, recursive)\u001b[0m\n",
            "File \u001b[0;32m/opt/homebrew/lib/python3.11/site-packages/transformers/utils/import_utils.py:1077\u001b[0m, in \u001b[0;36m_LazyModule.__getattr__\u001b[0;34m(self, name)\u001b[0m\n\u001b[1;32m   1075\u001b[0m \u001b[39melif\u001b[39;00m name \u001b[39min\u001b[39;00m \u001b[39mself\u001b[39m\u001b[39m.\u001b[39m_class_to_module\u001b[39m.\u001b[39mkeys():\n\u001b[1;32m   1076\u001b[0m     module \u001b[39m=\u001b[39m \u001b[39mself\u001b[39m\u001b[39m.\u001b[39m_get_module(\u001b[39mself\u001b[39m\u001b[39m.\u001b[39m_class_to_module[name])\n\u001b[0;32m-> 1077\u001b[0m     value \u001b[39m=\u001b[39m \u001b[39mgetattr\u001b[39m(module, name)\n\u001b[1;32m   1078\u001b[0m \u001b[39melse\u001b[39;00m:\n\u001b[1;32m   1079\u001b[0m     \u001b[39mraise\u001b[39;00m \u001b[39mAttributeError\u001b[39;00m(\u001b[39mf\u001b[39m\u001b[39m\"\u001b[39m\u001b[39mmodule \u001b[39m\u001b[39m{\u001b[39;00m\u001b[39mself\u001b[39m\u001b[39m.\u001b[39m\u001b[39m__name__\u001b[39m\u001b[39m}\u001b[39;00m\u001b[39m has no attribute \u001b[39m\u001b[39m{\u001b[39;00mname\u001b[39m}\u001b[39;00m\u001b[39m\"\u001b[39m)\n",
            "File \u001b[0;32m/opt/homebrew/lib/python3.11/site-packages/transformers/utils/import_utils.py:1076\u001b[0m, in \u001b[0;36m_LazyModule.__getattr__\u001b[0;34m(self, name)\u001b[0m\n\u001b[1;32m   1074\u001b[0m     value \u001b[39m=\u001b[39m \u001b[39mself\u001b[39m\u001b[39m.\u001b[39m_get_module(name)\n\u001b[1;32m   1075\u001b[0m \u001b[39melif\u001b[39;00m name \u001b[39min\u001b[39;00m \u001b[39mself\u001b[39m\u001b[39m.\u001b[39m_class_to_module\u001b[39m.\u001b[39mkeys():\n\u001b[0;32m-> 1076\u001b[0m     module \u001b[39m=\u001b[39m \u001b[39mself\u001b[39;49m\u001b[39m.\u001b[39;49m_get_module(\u001b[39mself\u001b[39;49m\u001b[39m.\u001b[39;49m_class_to_module[name])\n\u001b[1;32m   1077\u001b[0m     value \u001b[39m=\u001b[39m \u001b[39mgetattr\u001b[39m(module, name)\n\u001b[1;32m   1078\u001b[0m \u001b[39melse\u001b[39;00m:\n",
            "File \u001b[0;32m/opt/homebrew/lib/python3.11/site-packages/transformers/utils/import_utils.py:1088\u001b[0m, in \u001b[0;36m_LazyModule._get_module\u001b[0;34m(self, module_name)\u001b[0m\n\u001b[1;32m   1086\u001b[0m     \u001b[39mreturn\u001b[39;00m importlib\u001b[39m.\u001b[39mimport_module(\u001b[39m\"\u001b[39m\u001b[39m.\u001b[39m\u001b[39m\"\u001b[39m \u001b[39m+\u001b[39m module_name, \u001b[39mself\u001b[39m\u001b[39m.\u001b[39m\u001b[39m__name__\u001b[39m)\n\u001b[1;32m   1087\u001b[0m \u001b[39mexcept\u001b[39;00m \u001b[39mException\u001b[39;00m \u001b[39mas\u001b[39;00m e:\n\u001b[0;32m-> 1088\u001b[0m     \u001b[39mraise\u001b[39;00m \u001b[39mRuntimeError\u001b[39;00m(\n\u001b[1;32m   1089\u001b[0m         \u001b[39mf\u001b[39m\u001b[39m\"\u001b[39m\u001b[39mFailed to import \u001b[39m\u001b[39m{\u001b[39;00m\u001b[39mself\u001b[39m\u001b[39m.\u001b[39m\u001b[39m__name__\u001b[39m\u001b[39m}\u001b[39;00m\u001b[39m.\u001b[39m\u001b[39m{\u001b[39;00mmodule_name\u001b[39m}\u001b[39;00m\u001b[39m because of the following error (look up to see its\u001b[39m\u001b[39m\"\u001b[39m\n\u001b[1;32m   1090\u001b[0m         \u001b[39mf\u001b[39m\u001b[39m\"\u001b[39m\u001b[39m traceback):\u001b[39m\u001b[39m\\n\u001b[39;00m\u001b[39m{\u001b[39;00me\u001b[39m}\u001b[39;00m\u001b[39m\"\u001b[39m\n\u001b[1;32m   1091\u001b[0m     ) \u001b[39mfrom\u001b[39;00m \u001b[39me\u001b[39;00m\n",
            "\u001b[0;31mRuntimeError\u001b[0m: Failed to import transformers.models.bert.modeling_tf_bert because of the following error (look up to see its traceback):\nNo module named 'keras.__internal__'"
          ]
        }
      ],
      "source": [
        "import tensorflow as tf\n",
        "from tensorflow.keras import datasets, layers, models\n",
        "\n",
        "import numpy as np\n",
        "import matplotlib.pyplot as plt\n",
        "import pandas as pd\n",
        "\n",
        "import logging\n",
        "from dataclasses import dataclass\n",
        "from pathlib import Path\n",
        "from typing import Any, Dict, Optional\n",
        "\n",
        "from sklearn import preprocessing\n",
        "from sklearn.model_selection import train_test_split\n",
        "\n",
        "from classification import Pipeline"
      ]
    },
    {
      "cell_type": "code",
      "execution_count": null,
      "metadata": {
        "id": "ZToTFH1cAcIb"
      },
      "outputs": [],
      "source": [
        "pipeline = Pipeline(similarity=False)\n",
        "X_train, X_valid, X_test, y_train, y_valid, y_test = pipeline.load_dataset_from_file()\n",
        "input_shape = X_train.shape[1]"
      ]
    },
    {
      "cell_type": "code",
      "execution_count": null,
      "metadata": {
        "colab": {
          "base_uri": "https://localhost:8080/"
        },
        "id": "ITlrKUM9B2hR",
        "outputId": "a7889fe6-fe80-429c-b2bd-e6c6321b1896"
      },
      "outputs": [
        {
          "data": {
            "text/plain": [
              "795"
            ]
          },
          "execution_count": 4,
          "metadata": {},
          "output_type": "execute_result"
        }
      ],
      "source": [
        "input_shape"
      ]
    },
    {
      "cell_type": "code",
      "execution_count": null,
      "metadata": {
        "id": "LRbMJCvXTajR"
      },
      "outputs": [],
      "source": [
        "model = tf.keras.models.Sequential([\n",
        "    tf.keras.layers.Dense(input_shape, activation='relu'),\n",
        "    tf.keras.layers.Dense(32, activation='relu'),\n",
        "    tf.keras.layers.Dense(16, activation='relu'),\n",
        "    tf.keras.layers.Dense(8, activation='relu'),\n",
        "    tf.keras.layers.Dense(1, activation='sigmoid'),\n",
        "    tf.keras.layers.Dropout(0.2)\n",
        "])"
      ]
    },
    {
      "cell_type": "code",
      "execution_count": null,
      "metadata": {
        "id": "IXGC6AnNTaPf"
      },
      "outputs": [],
      "source": [
        "from tensorflow.python.training.saver import metrics\n",
        "from tensorflow.keras.optimizers import Adam\n",
        "\n",
        "optimizer = Adam(learning_rate=0.0001)\n",
        "model.compile(optimizer=optimizer,\n",
        "              loss=tf.keras.losses.BinaryCrossentropy(),\n",
        "              metrics=[\"accuracy\"])"
      ]
    },
    {
      "cell_type": "code",
      "execution_count": null,
      "metadata": {
        "colab": {
          "base_uri": "https://localhost:8080/"
        },
        "id": "paYciVVZTl8J",
        "outputId": "cc97211f-79a7-4ce0-8ed7-5e3e6c1a7c02"
      },
      "outputs": [
        {
          "name": "stdout",
          "output_type": "stream",
          "text": [
            "Epoch 1/150\n",
            "4/4 [==============================] - 2s 60ms/step - loss: 3.8912 - accuracy: 0.5088 - val_loss: 0.4126 - val_accuracy: 0.8000\n",
            "Epoch 2/150\n",
            "4/4 [==============================] - 0s 14ms/step - loss: 3.3119 - accuracy: 0.5088 - val_loss: 0.5226 - val_accuracy: 0.7000\n",
            "Epoch 3/150\n",
            "4/4 [==============================] - 0s 13ms/step - loss: 2.4541 - accuracy: 0.7018 - val_loss: 0.5571 - val_accuracy: 0.7500\n",
            "Epoch 4/150\n",
            "4/4 [==============================] - 0s 11ms/step - loss: 2.6494 - accuracy: 0.7368 - val_loss: 0.5586 - val_accuracy: 0.7500\n",
            "Epoch 5/150\n",
            "4/4 [==============================] - 0s 13ms/step - loss: 2.6838 - accuracy: 0.7018 - val_loss: 0.6149 - val_accuracy: 0.7000\n",
            "Epoch 6/150\n",
            "4/4 [==============================] - 0s 12ms/step - loss: 2.6618 - accuracy: 0.7193 - val_loss: 0.6415 - val_accuracy: 0.7000\n",
            "Epoch 7/150\n",
            "4/4 [==============================] - 0s 13ms/step - loss: 3.4838 - accuracy: 0.6842 - val_loss: 0.6504 - val_accuracy: 0.7500\n",
            "Epoch 8/150\n",
            "4/4 [==============================] - 0s 13ms/step - loss: 0.7821 - accuracy: 0.8421 - val_loss: 0.5554 - val_accuracy: 0.7500\n",
            "Epoch 9/150\n",
            "4/4 [==============================] - 0s 11ms/step - loss: 2.1358 - accuracy: 0.7544 - val_loss: 0.5046 - val_accuracy: 0.7500\n",
            "Epoch 10/150\n",
            "4/4 [==============================] - 0s 14ms/step - loss: 1.5454 - accuracy: 0.7895 - val_loss: 0.5411 - val_accuracy: 0.7500\n",
            "Epoch 11/150\n",
            "4/4 [==============================] - 0s 13ms/step - loss: 3.3997 - accuracy: 0.7193 - val_loss: 0.5833 - val_accuracy: 0.7500\n",
            "Epoch 12/150\n",
            "4/4 [==============================] - 0s 13ms/step - loss: 1.8425 - accuracy: 0.7895 - val_loss: 0.5315 - val_accuracy: 0.7500\n",
            "Epoch 13/150\n",
            "4/4 [==============================] - 0s 18ms/step - loss: 2.6298 - accuracy: 0.7368 - val_loss: 0.4692 - val_accuracy: 0.7500\n",
            "Epoch 14/150\n",
            "4/4 [==============================] - 0s 17ms/step - loss: 2.5588 - accuracy: 0.7895 - val_loss: 0.3954 - val_accuracy: 0.8500\n",
            "Epoch 15/150\n",
            "4/4 [==============================] - 0s 11ms/step - loss: 1.2564 - accuracy: 0.8596 - val_loss: 0.3873 - val_accuracy: 0.9000\n",
            "Epoch 16/150\n",
            "4/4 [==============================] - 0s 12ms/step - loss: 2.3024 - accuracy: 0.8070 - val_loss: 0.4300 - val_accuracy: 0.8500\n",
            "Epoch 17/150\n",
            "4/4 [==============================] - 0s 11ms/step - loss: 1.7270 - accuracy: 0.8596 - val_loss: 0.4965 - val_accuracy: 0.7500\n",
            "Epoch 18/150\n",
            "4/4 [==============================] - 0s 13ms/step - loss: 1.7640 - accuracy: 0.8246 - val_loss: 0.5539 - val_accuracy: 0.7500\n",
            "Epoch 19/150\n",
            "4/4 [==============================] - 0s 11ms/step - loss: 1.0401 - accuracy: 0.8421 - val_loss: 0.8283 - val_accuracy: 0.7000\n",
            "Epoch 20/150\n",
            "4/4 [==============================] - 0s 11ms/step - loss: 1.5574 - accuracy: 0.7895 - val_loss: 0.6235 - val_accuracy: 0.7000\n",
            "Epoch 21/150\n",
            "4/4 [==============================] - 0s 11ms/step - loss: 2.0015 - accuracy: 0.8421 - val_loss: 0.4246 - val_accuracy: 0.7500\n",
            "Epoch 22/150\n",
            "4/4 [==============================] - 0s 11ms/step - loss: 2.5603 - accuracy: 0.8246 - val_loss: 0.3867 - val_accuracy: 0.8500\n",
            "Epoch 23/150\n",
            "4/4 [==============================] - 0s 14ms/step - loss: 2.0080 - accuracy: 0.8421 - val_loss: 0.5262 - val_accuracy: 0.7500\n",
            "Epoch 24/150\n",
            "4/4 [==============================] - 0s 11ms/step - loss: 2.8790 - accuracy: 0.7719 - val_loss: 0.5975 - val_accuracy: 0.7000\n",
            "Epoch 25/150\n",
            "4/4 [==============================] - 0s 14ms/step - loss: 1.1800 - accuracy: 0.8772 - val_loss: 0.4125 - val_accuracy: 0.9000\n",
            "Epoch 26/150\n",
            "4/4 [==============================] - 0s 14ms/step - loss: 3.0760 - accuracy: 0.7544 - val_loss: 0.4220 - val_accuracy: 0.9000\n",
            "Epoch 27/150\n",
            "4/4 [==============================] - 0s 11ms/step - loss: 1.9853 - accuracy: 0.8596 - val_loss: 0.5210 - val_accuracy: 0.7000\n",
            "Epoch 28/150\n",
            "4/4 [==============================] - 0s 12ms/step - loss: 1.7432 - accuracy: 0.8246 - val_loss: 0.6320 - val_accuracy: 0.7000\n",
            "Epoch 29/150\n",
            "4/4 [==============================] - 0s 11ms/step - loss: 1.1939 - accuracy: 0.8772 - val_loss: 0.5372 - val_accuracy: 0.7000\n",
            "Epoch 30/150\n",
            "4/4 [==============================] - 0s 14ms/step - loss: 2.5237 - accuracy: 0.8246 - val_loss: 0.4292 - val_accuracy: 0.8500\n",
            "Epoch 31/150\n",
            "4/4 [==============================] - 0s 12ms/step - loss: 1.4354 - accuracy: 0.9123 - val_loss: 0.4526 - val_accuracy: 0.8000\n",
            "Epoch 32/150\n",
            "4/4 [==============================] - 0s 13ms/step - loss: 1.9683 - accuracy: 0.8772 - val_loss: 0.5566 - val_accuracy: 0.7000\n",
            "Epoch 33/150\n",
            "4/4 [==============================] - 0s 13ms/step - loss: 2.2252 - accuracy: 0.8596 - val_loss: 0.5650 - val_accuracy: 0.7000\n",
            "Epoch 34/150\n",
            "4/4 [==============================] - 0s 11ms/step - loss: 0.8915 - accuracy: 0.9298 - val_loss: 0.5002 - val_accuracy: 0.8000\n",
            "Epoch 35/150\n",
            "4/4 [==============================] - 0s 17ms/step - loss: 2.7760 - accuracy: 0.8070 - val_loss: 0.4903 - val_accuracy: 0.8500\n",
            "Epoch 36/150\n",
            "4/4 [==============================] - 0s 14ms/step - loss: 1.6749 - accuracy: 0.8947 - val_loss: 0.5827 - val_accuracy: 0.7000\n",
            "Epoch 37/150\n",
            "4/4 [==============================] - 0s 12ms/step - loss: 1.6806 - accuracy: 0.8772 - val_loss: 0.5372 - val_accuracy: 0.7500\n",
            "Epoch 38/150\n",
            "4/4 [==============================] - 0s 13ms/step - loss: 1.6809 - accuracy: 0.8772 - val_loss: 0.5055 - val_accuracy: 0.7500\n",
            "Epoch 39/150\n",
            "4/4 [==============================] - 0s 14ms/step - loss: 2.4864 - accuracy: 0.8421 - val_loss: 0.5576 - val_accuracy: 0.7500\n",
            "Epoch 40/150\n",
            "4/4 [==============================] - 0s 13ms/step - loss: 1.9445 - accuracy: 0.8596 - val_loss: 0.5992 - val_accuracy: 0.7000\n",
            "Epoch 41/150\n",
            "4/4 [==============================] - 0s 12ms/step - loss: 1.9528 - accuracy: 0.8596 - val_loss: 0.5713 - val_accuracy: 0.7500\n",
            "Epoch 42/150\n",
            "4/4 [==============================] - 0s 12ms/step - loss: 1.6703 - accuracy: 0.8947 - val_loss: 0.4985 - val_accuracy: 0.7500\n",
            "Epoch 43/150\n",
            "4/4 [==============================] - 0s 14ms/step - loss: 2.4857 - accuracy: 0.8421 - val_loss: 0.5336 - val_accuracy: 0.7500\n",
            "Epoch 44/150\n",
            "4/4 [==============================] - 0s 13ms/step - loss: 0.5877 - accuracy: 0.9649 - val_loss: 0.5398 - val_accuracy: 0.7500\n",
            "Epoch 45/150\n",
            "4/4 [==============================] - 0s 12ms/step - loss: 1.9369 - accuracy: 0.8772 - val_loss: 0.4626 - val_accuracy: 0.8500\n",
            "Epoch 46/150\n",
            "4/4 [==============================] - 0s 14ms/step - loss: 1.4163 - accuracy: 0.9123 - val_loss: 0.4906 - val_accuracy: 0.8500\n",
            "Epoch 47/150\n",
            "4/4 [==============================] - 0s 13ms/step - loss: 1.6588 - accuracy: 0.8947 - val_loss: 0.6119 - val_accuracy: 0.7000\n",
            "Epoch 48/150\n",
            "4/4 [==============================] - 0s 12ms/step - loss: 1.1418 - accuracy: 0.9123 - val_loss: 0.6464 - val_accuracy: 0.7000\n",
            "Epoch 49/150\n",
            "4/4 [==============================] - 0s 12ms/step - loss: 1.1163 - accuracy: 0.9298 - val_loss: 0.5769 - val_accuracy: 0.7500\n",
            "Epoch 50/150\n",
            "4/4 [==============================] - 0s 14ms/step - loss: 1.6698 - accuracy: 0.8772 - val_loss: 0.5567 - val_accuracy: 0.7500\n",
            "Epoch 51/150\n",
            "4/4 [==============================] - 0s 12ms/step - loss: 2.4673 - accuracy: 0.8246 - val_loss: 0.5544 - val_accuracy: 0.7500\n",
            "Epoch 52/150\n",
            "4/4 [==============================] - 0s 11ms/step - loss: 2.2019 - accuracy: 0.8596 - val_loss: 0.5664 - val_accuracy: 0.7500\n",
            "Epoch 53/150\n",
            "4/4 [==============================] - 0s 13ms/step - loss: 1.9242 - accuracy: 0.8772 - val_loss: 0.5774 - val_accuracy: 0.7500\n",
            "Epoch 54/150\n",
            "4/4 [==============================] - 0s 17ms/step - loss: 1.4066 - accuracy: 0.8947 - val_loss: 0.6239 - val_accuracy: 0.7000\n",
            "Epoch 55/150\n",
            "4/4 [==============================] - 0s 12ms/step - loss: 2.4655 - accuracy: 0.8421 - val_loss: 0.5634 - val_accuracy: 0.7500\n",
            "Epoch 56/150\n",
            "4/4 [==============================] - 0s 13ms/step - loss: 0.5753 - accuracy: 0.9649 - val_loss: 0.5465 - val_accuracy: 0.8000\n",
            "Epoch 57/150\n",
            "4/4 [==============================] - 0s 14ms/step - loss: 2.2026 - accuracy: 0.8421 - val_loss: 0.6015 - val_accuracy: 0.7500\n",
            "Epoch 58/150\n",
            "4/4 [==============================] - 0s 14ms/step - loss: 1.3840 - accuracy: 0.9123 - val_loss: 0.5718 - val_accuracy: 0.7500\n",
            "Epoch 59/150\n",
            "4/4 [==============================] - 0s 15ms/step - loss: 0.8500 - accuracy: 0.9474 - val_loss: 0.6006 - val_accuracy: 0.7500\n",
            "Epoch 60/150\n",
            "4/4 [==============================] - 0s 11ms/step - loss: 2.4680 - accuracy: 0.8421 - val_loss: 0.6307 - val_accuracy: 0.7000\n",
            "Epoch 61/150\n",
            "4/4 [==============================] - 0s 14ms/step - loss: 2.1937 - accuracy: 0.8596 - val_loss: 0.6161 - val_accuracy: 0.7500\n",
            "Epoch 62/150\n",
            "4/4 [==============================] - 0s 12ms/step - loss: 2.1900 - accuracy: 0.8596 - val_loss: 0.5595 - val_accuracy: 0.8000\n",
            "Epoch 63/150\n",
            "4/4 [==============================] - 0s 13ms/step - loss: 1.1193 - accuracy: 0.9298 - val_loss: 0.5677 - val_accuracy: 0.8000\n",
            "Epoch 64/150\n",
            "4/4 [==============================] - 0s 12ms/step - loss: 1.1168 - accuracy: 0.9298 - val_loss: 0.6211 - val_accuracy: 0.7500\n",
            "Epoch 65/150\n",
            "4/4 [==============================] - 0s 13ms/step - loss: 2.1855 - accuracy: 0.8596 - val_loss: 0.6593 - val_accuracy: 0.7000\n",
            "Epoch 66/150\n",
            "4/4 [==============================] - 0s 14ms/step - loss: 1.9211 - accuracy: 0.8596 - val_loss: 0.6493 - val_accuracy: 0.7000\n",
            "Epoch 67/150\n",
            "4/4 [==============================] - 0s 13ms/step - loss: 2.4660 - accuracy: 0.8421 - val_loss: 0.5821 - val_accuracy: 0.7500\n",
            "Epoch 68/150\n",
            "4/4 [==============================] - 0s 14ms/step - loss: 0.8319 - accuracy: 0.9474 - val_loss: 0.6044 - val_accuracy: 0.7500\n",
            "Epoch 69/150\n",
            "4/4 [==============================] - 0s 14ms/step - loss: 1.3789 - accuracy: 0.9123 - val_loss: 0.6198 - val_accuracy: 0.7000\n",
            "Epoch 70/150\n",
            "4/4 [==============================] - 0s 12ms/step - loss: 1.9184 - accuracy: 0.8772 - val_loss: 0.6853 - val_accuracy: 0.7000\n",
            "Epoch 71/150\n",
            "4/4 [==============================] - 0s 13ms/step - loss: 0.8425 - accuracy: 0.9474 - val_loss: 0.6214 - val_accuracy: 0.7500\n",
            "Epoch 72/150\n",
            "4/4 [==============================] - 0s 19ms/step - loss: 2.7147 - accuracy: 0.8246 - val_loss: 0.6002 - val_accuracy: 0.7500\n",
            "Epoch 73/150\n",
            "4/4 [==============================] - 0s 12ms/step - loss: 1.9172 - accuracy: 0.8772 - val_loss: 0.5974 - val_accuracy: 0.7500\n",
            "Epoch 74/150\n",
            "4/4 [==============================] - 0s 12ms/step - loss: 1.3753 - accuracy: 0.9123 - val_loss: 0.6372 - val_accuracy: 0.7000\n",
            "Epoch 75/150\n",
            "4/4 [==============================] - 0s 14ms/step - loss: 3.0022 - accuracy: 0.8070 - val_loss: 0.6543 - val_accuracy: 0.7000\n",
            "Epoch 76/150\n",
            "4/4 [==============================] - 0s 13ms/step - loss: 2.7229 - accuracy: 0.8246 - val_loss: 0.6741 - val_accuracy: 0.7000\n",
            "Epoch 77/150\n",
            "4/4 [==============================] - 0s 12ms/step - loss: 1.3766 - accuracy: 0.9123 - val_loss: 0.6591 - val_accuracy: 0.7000\n",
            "Epoch 78/150\n",
            "4/4 [==============================] - 0s 15ms/step - loss: 1.3753 - accuracy: 0.9123 - val_loss: 0.6333 - val_accuracy: 0.7500\n",
            "Epoch 79/150\n",
            "4/4 [==============================] - 0s 13ms/step - loss: 1.6475 - accuracy: 0.8947 - val_loss: 0.6562 - val_accuracy: 0.7000\n",
            "Epoch 80/150\n",
            "4/4 [==============================] - 0s 14ms/step - loss: 0.5629 - accuracy: 0.9649 - val_loss: 0.6867 - val_accuracy: 0.7000\n",
            "Epoch 81/150\n",
            "4/4 [==============================] - 0s 15ms/step - loss: 0.8336 - accuracy: 0.9474 - val_loss: 0.6344 - val_accuracy: 0.7500\n",
            "Epoch 82/150\n",
            "4/4 [==============================] - 0s 13ms/step - loss: 2.1820 - accuracy: 0.8596 - val_loss: 0.5975 - val_accuracy: 0.8000\n",
            "Epoch 83/150\n",
            "4/4 [==============================] - 0s 14ms/step - loss: 1.6451 - accuracy: 0.8947 - val_loss: 0.6431 - val_accuracy: 0.7500\n",
            "Epoch 84/150\n",
            "4/4 [==============================] - 0s 13ms/step - loss: 0.8327 - accuracy: 0.9474 - val_loss: 0.7699 - val_accuracy: 0.7000\n",
            "Epoch 85/150\n",
            "4/4 [==============================] - 0s 12ms/step - loss: 1.3752 - accuracy: 0.9123 - val_loss: 0.6548 - val_accuracy: 0.7500\n",
            "Epoch 86/150\n",
            "4/4 [==============================] - 0s 12ms/step - loss: 1.6380 - accuracy: 0.8947 - val_loss: 0.6518 - val_accuracy: 0.7500\n",
            "Epoch 87/150\n",
            "4/4 [==============================] - 0s 13ms/step - loss: 1.3694 - accuracy: 0.9123 - val_loss: 0.6812 - val_accuracy: 0.7500\n",
            "Epoch 88/150\n",
            "4/4 [==============================] - 0s 13ms/step - loss: 2.1770 - accuracy: 0.8596 - val_loss: 0.7198 - val_accuracy: 0.7000\n",
            "Epoch 89/150\n",
            "4/4 [==============================] - 0s 13ms/step - loss: 1.3680 - accuracy: 0.9123 - val_loss: 0.7039 - val_accuracy: 0.7000\n",
            "Epoch 90/150\n",
            "4/4 [==============================] - 0s 14ms/step - loss: 2.9927 - accuracy: 0.8070 - val_loss: 0.6619 - val_accuracy: 0.7500\n",
            "Epoch 91/150\n",
            "4/4 [==============================] - 0s 13ms/step - loss: 2.1747 - accuracy: 0.8596 - val_loss: 0.7067 - val_accuracy: 0.7000\n",
            "Epoch 92/150\n",
            "4/4 [==============================] - 0s 12ms/step - loss: 1.9064 - accuracy: 0.8772 - val_loss: 0.7485 - val_accuracy: 0.7000\n",
            "Epoch 93/150\n",
            "4/4 [==============================] - 0s 12ms/step - loss: 2.4518 - accuracy: 0.8421 - val_loss: 0.7033 - val_accuracy: 0.7000\n",
            "Epoch 94/150\n",
            "4/4 [==============================] - 0s 13ms/step - loss: 1.9104 - accuracy: 0.8772 - val_loss: 0.7213 - val_accuracy: 0.7000\n",
            "Epoch 95/150\n",
            "4/4 [==============================] - 0s 12ms/step - loss: 1.3649 - accuracy: 0.9123 - val_loss: 0.7796 - val_accuracy: 0.7000\n",
            "Epoch 96/150\n",
            "4/4 [==============================] - 0s 12ms/step - loss: 1.6362 - accuracy: 0.8947 - val_loss: 0.7009 - val_accuracy: 0.7500\n",
            "Epoch 97/150\n",
            "4/4 [==============================] - 0s 12ms/step - loss: 2.4485 - accuracy: 0.8421 - val_loss: 0.7097 - val_accuracy: 0.7000\n",
            "Epoch 98/150\n",
            "4/4 [==============================] - 0s 14ms/step - loss: 2.1699 - accuracy: 0.8596 - val_loss: 0.7898 - val_accuracy: 0.7000\n",
            "Epoch 99/150\n",
            "4/4 [==============================] - 0s 13ms/step - loss: 1.9079 - accuracy: 0.8772 - val_loss: 0.7740 - val_accuracy: 0.7000\n",
            "Epoch 100/150\n",
            "4/4 [==============================] - 0s 14ms/step - loss: 2.4453 - accuracy: 0.8421 - val_loss: 0.6538 - val_accuracy: 0.7500\n",
            "Epoch 101/150\n",
            "4/4 [==============================] - 0s 12ms/step - loss: 1.3638 - accuracy: 0.9123 - val_loss: 0.6749 - val_accuracy: 0.7500\n",
            "Epoch 102/150\n",
            "4/4 [==============================] - 0s 13ms/step - loss: 1.6333 - accuracy: 0.8947 - val_loss: 0.7592 - val_accuracy: 0.7000\n",
            "Epoch 103/150\n",
            "4/4 [==============================] - 0s 12ms/step - loss: 1.0935 - accuracy: 0.9298 - val_loss: 0.7822 - val_accuracy: 0.7000\n",
            "Epoch 104/150\n",
            "4/4 [==============================] - 0s 12ms/step - loss: 1.6352 - accuracy: 0.8947 - val_loss: 0.7494 - val_accuracy: 0.7000\n",
            "Epoch 105/150\n",
            "4/4 [==============================] - 0s 13ms/step - loss: 1.6349 - accuracy: 0.8947 - val_loss: 0.7286 - val_accuracy: 0.7000\n",
            "Epoch 106/150\n",
            "4/4 [==============================] - 0s 14ms/step - loss: 1.0930 - accuracy: 0.9298 - val_loss: 0.7537 - val_accuracy: 0.7000\n",
            "Epoch 107/150\n",
            "4/4 [==============================] - 0s 12ms/step - loss: 2.1750 - accuracy: 0.8596 - val_loss: 0.7872 - val_accuracy: 0.7000\n",
            "Epoch 108/150\n",
            "4/4 [==============================] - 0s 12ms/step - loss: 2.4435 - accuracy: 0.8421 - val_loss: 0.7397 - val_accuracy: 0.7500\n",
            "Epoch 109/150\n",
            "4/4 [==============================] - 0s 12ms/step - loss: 2.4458 - accuracy: 0.8421 - val_loss: 0.6556 - val_accuracy: 0.8000\n",
            "Epoch 110/150\n",
            "4/4 [==============================] - 0s 19ms/step - loss: 2.1771 - accuracy: 0.8596 - val_loss: 0.7366 - val_accuracy: 0.7500\n",
            "Epoch 111/150\n",
            "4/4 [==============================] - 0s 12ms/step - loss: 1.6331 - accuracy: 0.8947 - val_loss: 0.8288 - val_accuracy: 0.7000\n",
            "Epoch 112/150\n",
            "4/4 [==============================] - 0s 13ms/step - loss: 1.6348 - accuracy: 0.8947 - val_loss: 0.7653 - val_accuracy: 0.7500\n",
            "Epoch 113/150\n",
            "4/4 [==============================] - 0s 14ms/step - loss: 2.7123 - accuracy: 0.8246 - val_loss: 0.7537 - val_accuracy: 0.7500\n",
            "Epoch 114/150\n",
            "4/4 [==============================] - 0s 14ms/step - loss: 1.0862 - accuracy: 0.9298 - val_loss: 0.7700 - val_accuracy: 0.7500\n",
            "Epoch 115/150\n",
            "4/4 [==============================] - 0s 12ms/step - loss: 2.9829 - accuracy: 0.8070 - val_loss: 0.7833 - val_accuracy: 0.7000\n",
            "Epoch 116/150\n",
            "4/4 [==============================] - 0s 18ms/step - loss: 1.0865 - accuracy: 0.9298 - val_loss: 0.8067 - val_accuracy: 0.7000\n",
            "Epoch 117/150\n",
            "4/4 [==============================] - 0s 15ms/step - loss: 1.3633 - accuracy: 0.9123 - val_loss: 0.7988 - val_accuracy: 0.7000\n",
            "Epoch 118/150\n",
            "4/4 [==============================] - 0s 12ms/step - loss: 2.1734 - accuracy: 0.8596 - val_loss: 0.7967 - val_accuracy: 0.7000\n",
            "Epoch 119/150\n",
            "4/4 [==============================] - 0s 12ms/step - loss: 1.9007 - accuracy: 0.8772 - val_loss: 0.7675 - val_accuracy: 0.7500\n",
            "Epoch 120/150\n",
            "4/4 [==============================] - 0s 13ms/step - loss: 1.6324 - accuracy: 0.8947 - val_loss: 0.8044 - val_accuracy: 0.7000\n",
            "Epoch 121/150\n",
            "4/4 [==============================] - 0s 14ms/step - loss: 1.8980 - accuracy: 0.8772 - val_loss: 0.8542 - val_accuracy: 0.7000\n",
            "Epoch 122/150\n",
            "4/4 [==============================] - 0s 13ms/step - loss: 1.0880 - accuracy: 0.9298 - val_loss: 0.7339 - val_accuracy: 0.7500\n",
            "Epoch 123/150\n",
            "4/4 [==============================] - 0s 13ms/step - loss: 2.1705 - accuracy: 0.8596 - val_loss: 0.6871 - val_accuracy: 0.8000\n",
            "Epoch 124/150\n",
            "4/4 [==============================] - 0s 13ms/step - loss: 1.6305 - accuracy: 0.8947 - val_loss: 0.7190 - val_accuracy: 0.7500\n",
            "Epoch 125/150\n",
            "4/4 [==============================] - 0s 14ms/step - loss: 1.3583 - accuracy: 0.9123 - val_loss: 0.8079 - val_accuracy: 0.7000\n",
            "Epoch 126/150\n",
            "4/4 [==============================] - 0s 13ms/step - loss: 1.9020 - accuracy: 0.8772 - val_loss: 0.8133 - val_accuracy: 0.7000\n",
            "Epoch 127/150\n",
            "4/4 [==============================] - 0s 13ms/step - loss: 1.9013 - accuracy: 0.8772 - val_loss: 0.7041 - val_accuracy: 0.7500\n",
            "Epoch 128/150\n",
            "4/4 [==============================] - 0s 12ms/step - loss: 1.8996 - accuracy: 0.8772 - val_loss: 0.7480 - val_accuracy: 0.7500\n",
            "Epoch 129/150\n",
            "4/4 [==============================] - 0s 14ms/step - loss: 1.8981 - accuracy: 0.8772 - val_loss: 0.8492 - val_accuracy: 0.7000\n",
            "Epoch 130/150\n",
            "4/4 [==============================] - 0s 13ms/step - loss: 1.3611 - accuracy: 0.9123 - val_loss: 0.8182 - val_accuracy: 0.7000\n",
            "Epoch 131/150\n",
            "4/4 [==============================] - 0s 13ms/step - loss: 1.3554 - accuracy: 0.9123 - val_loss: 0.6698 - val_accuracy: 0.8000\n",
            "Epoch 132/150\n",
            "4/4 [==============================] - 0s 12ms/step - loss: 1.3661 - accuracy: 0.9123 - val_loss: 0.7017 - val_accuracy: 0.8000\n",
            "Epoch 133/150\n",
            "4/4 [==============================] - 0s 13ms/step - loss: 0.8192 - accuracy: 0.9474 - val_loss: 0.8300 - val_accuracy: 0.7000\n",
            "Epoch 134/150\n",
            "4/4 [==============================] - 0s 12ms/step - loss: 1.6349 - accuracy: 0.8947 - val_loss: 0.8904 - val_accuracy: 0.7000\n",
            "Epoch 135/150\n",
            "4/4 [==============================] - 0s 17ms/step - loss: 1.3588 - accuracy: 0.9123 - val_loss: 0.7606 - val_accuracy: 0.7500\n",
            "Epoch 136/150\n",
            "4/4 [==============================] - 0s 12ms/step - loss: 1.3586 - accuracy: 0.9123 - val_loss: 0.7656 - val_accuracy: 0.7500\n",
            "Epoch 137/150\n",
            "4/4 [==============================] - 0s 16ms/step - loss: 1.8996 - accuracy: 0.8772 - val_loss: 0.8662 - val_accuracy: 0.7000\n",
            "Epoch 138/150\n",
            "4/4 [==============================] - 0s 12ms/step - loss: 1.3559 - accuracy: 0.9123 - val_loss: 0.8754 - val_accuracy: 0.7000\n",
            "Epoch 139/150\n",
            "4/4 [==============================] - 0s 18ms/step - loss: 1.3576 - accuracy: 0.9123 - val_loss: 0.8195 - val_accuracy: 0.7500\n",
            "Epoch 140/150\n",
            "4/4 [==============================] - 0s 12ms/step - loss: 1.6277 - accuracy: 0.8947 - val_loss: 0.8003 - val_accuracy: 0.7500\n",
            "Epoch 141/150\n",
            "4/4 [==============================] - 0s 13ms/step - loss: 1.8985 - accuracy: 0.8772 - val_loss: 0.8310 - val_accuracy: 0.7000\n",
            "Epoch 142/150\n",
            "4/4 [==============================] - 0s 12ms/step - loss: 1.9001 - accuracy: 0.8772 - val_loss: 0.8279 - val_accuracy: 0.7000\n",
            "Epoch 143/150\n",
            "4/4 [==============================] - 0s 12ms/step - loss: 1.3559 - accuracy: 0.9123 - val_loss: 0.8489 - val_accuracy: 0.7000\n",
            "Epoch 144/150\n",
            "4/4 [==============================] - 0s 11ms/step - loss: 2.1665 - accuracy: 0.8596 - val_loss: 0.8274 - val_accuracy: 0.7500\n",
            "Epoch 145/150\n",
            "4/4 [==============================] - 0s 12ms/step - loss: 1.0881 - accuracy: 0.9298 - val_loss: 0.8834 - val_accuracy: 0.7000\n",
            "Epoch 146/150\n",
            "4/4 [==============================] - 0s 11ms/step - loss: 2.1677 - accuracy: 0.8596 - val_loss: 0.8863 - val_accuracy: 0.7000\n",
            "Epoch 147/150\n",
            "4/4 [==============================] - 0s 14ms/step - loss: 2.4404 - accuracy: 0.8421 - val_loss: 0.8158 - val_accuracy: 0.7500\n",
            "Epoch 148/150\n",
            "4/4 [==============================] - 0s 12ms/step - loss: 1.6281 - accuracy: 0.8947 - val_loss: 0.8161 - val_accuracy: 0.7500\n",
            "Epoch 149/150\n",
            "4/4 [==============================] - 0s 13ms/step - loss: 1.3560 - accuracy: 0.9123 - val_loss: 0.7841 - val_accuracy: 0.7500\n",
            "Epoch 150/150\n",
            "4/4 [==============================] - 0s 12ms/step - loss: 1.6258 - accuracy: 0.8947 - val_loss: 0.8096 - val_accuracy: 0.7500\n"
          ]
        }
      ],
      "source": [
        "NUM_EPOCHS = 150\n",
        "\n",
        "history = model.fit(\n",
        "      x = X_train,\n",
        "      y = y_train,\n",
        "      epochs = NUM_EPOCHS,\n",
        "      batch_size=16,\n",
        "      verbose = 1,\n",
        "      validation_data=(X_valid, y_valid))"
      ]
    },
    {
      "cell_type": "code",
      "execution_count": null,
      "metadata": {
        "colab": {
          "base_uri": "https://localhost:8080/"
        },
        "id": "R0RDeOQKDFbq",
        "outputId": "965b70d4-63e0-42de-b6b0-8e3b430eac79"
      },
      "outputs": [
        {
          "name": "stdout",
          "output_type": "stream",
          "text": [
            "1/1 [==============================] - 0s 19ms/step - loss: 1.0186 - accuracy: 0.7500\n"
          ]
        },
        {
          "data": {
            "text/plain": [
              "[1.0185927152633667, 0.75]"
            ]
          },
          "execution_count": 9,
          "metadata": {},
          "output_type": "execute_result"
        }
      ],
      "source": [
        "model.evaluate(X_test, y_test)"
      ]
    },
    {
      "cell_type": "code",
      "execution_count": null,
      "metadata": {
        "colab": {
          "base_uri": "https://localhost:8080/"
        },
        "id": "5-zwuYAgCo8N",
        "outputId": "6e23edac-3eed-4aee-c7ce-5673be9d42f7"
      },
      "outputs": [
        {
          "name": "stdout",
          "output_type": "stream",
          "text": [
            "1/1 [==============================] - 0s 75ms/step\n",
            "[0 0 1 1 0 0 1 1 1 1 1 0 0 1 0 0 0 0 0 0]\n",
            "[1 0 1 0 1 1 1 1 1 1 1 0 0 1 0 1 0 0 0 0]\n"
          ]
        }
      ],
      "source": [
        "predictions = []\n",
        "for value in (model.predict(X_test)>=0.5).astype(int):\n",
        "  predictions.append(value[0])\n",
        "predictions = np.array(predictions)\n",
        "actual = y_test\n",
        "\n",
        "print(predictions)\n",
        "print(actual)"
      ]
    },
    {
      "cell_type": "code",
      "execution_count": null,
      "metadata": {
        "colab": {
          "base_uri": "https://localhost:8080/",
          "height": 448
        },
        "id": "v-2a7j-pTl5y",
        "outputId": "8d6c0635-4b69-4d9f-b82a-06766aca1484"
      },
      "outputs": [
        {
          "data": {
            "image/png": "[encoded data removed]",
            "text/plain": [
              "<Figure size 640x480 with 1 Axes>"
            ]
          },
          "metadata": {},
          "output_type": "display_data"
        }
      ],
      "source": [
        "def moving_average(x, w):\n",
        "    return np.convolve(x, np.ones(w), 'valid') / w\n",
        "\n",
        "AVERAGING = 20\n",
        "\n",
        "train_accs = history.history['accuracy']\n",
        "train_graph = moving_average(train_accs, AVERAGING)\n",
        "epoch_range = [x + 1 for x in range(len(train_graph))]\n",
        "\n",
        "validation_accs = history.history['val_accuracy']\n",
        "val_graph = moving_average(validation_accs, AVERAGING)\n",
        "epoch_range = [x + 1 for x in range(len(val_graph))]\n",
        "\n",
        "plt.plot(np.asarray(epoch_range).astype(str), train_graph, label='Training Accuracy')\n",
        "plt.plot(np.asarray(epoch_range).astype(str), val_graph, label='Validation Accuracy')\n",
        "plt.xticks([])\n",
        "plt.title('Fake News Classifier with BERT')\n",
        "plt.xlabel('Epochs')\n",
        "plt.ylabel('Accuracy')\n",
        "plt.legend(loc='lower right')\n",
        "plt.show()"
      ]
    },
    {
      "cell_type": "code",
      "execution_count": null,
      "metadata": {
        "colab": {
          "base_uri": "https://localhost:8080/"
        },
        "id": "_nO9xA3Zpm0k",
        "outputId": "5ffac243-f4a7-46d5-bcc0-ec1d6e57e149"
      },
      "outputs": [
        {
          "name": "stdout",
          "output_type": "stream",
          "text": [
            "1/1 [==============================] - 0s 15ms/step\n",
            "0.7368421052631579\n",
            "              precision    recall  f1-score   support\n",
            "\n",
            "           0       0.67      0.89      0.76         9\n",
            "           1       0.88      0.64      0.74        11\n",
            "\n",
            "    accuracy                           0.75        20\n",
            "   macro avg       0.77      0.76      0.75        20\n",
            "weighted avg       0.78      0.75      0.75        20\n",
            "\n"
          ]
        }
      ],
      "source": [
        "# validation accuracy, recall, precision, F1-score\n",
        "predictions = []\n",
        "for value in (model.predict(X_test)>=0.5).astype(int):\n",
        "  predictions.append(value[0])\n",
        "predictions = np.array(predictions)\n",
        "actual = y_test\n",
        "\n",
        "\n",
        "from sklearn.metrics import classification_report\n",
        "from sklearn.metrics import f1_score\n",
        "print(f1_score(actual, predictions))\n",
        "print(classification_report(actual, predictions))"
      ]
    },
    {
      "cell_type": "code",
      "execution_count": null,
      "metadata": {
        "colab": {
          "base_uri": "https://localhost:8080/",
          "height": 455
        },
        "id": "kw0g9lH2qfGP",
        "outputId": "ec2411d0-0427-48ca-b2e2-79f55a8d09e8"
      },
      "outputs": [
        {
          "data": {
            "image/png": "[encoded data removed]",
            "text/plain": [
              "<Figure size 640x480 with 2 Axes>"
            ]
          },
          "metadata": {},
          "output_type": "display_data"
        }
      ],
      "source": [
        "# confusion matrix\n",
        "from sklearn.metrics import confusion_matrix, ConfusionMatrixDisplay\n",
        "cm = confusion_matrix(actual, predictions, labels=[0,1])\n",
        "disp = ConfusionMatrixDisplay(confusion_matrix=cm, display_labels=[\"Fake\", \"Real\"])\n",
        "disp.plot()\n",
        "plt.show()"
      ]
    },
    {
      "cell_type": "code",
      "execution_count": null,
      "metadata": {
        "id": "MWm0LBLCDq7q"
      },
      "outputs": [],
      "source": [
        "#model.save(\"fake_news_classification_model\")"
      ]
    }
  ],
  "metadata": {
    "colab": {
      "provenance": []
    },
    "kernelspec": {
      "display_name": "Python 3",
      "name": "python3"
    },
    "language_info": {
      "codemirror_mode": {
        "name": "ipython",
        "version": 3
      },
      "file_extension": ".py",
      "mimetype": "text/x-python",
      "name": "python",
      "nbconvert_exporter": "python",
      "pygments_lexer": "ipython3",
      "version": "3.11.3"
    }
  },
  "nbformat": 4,
  "nbformat_minor": 0
}
