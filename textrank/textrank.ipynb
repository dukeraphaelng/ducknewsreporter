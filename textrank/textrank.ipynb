{
 "cells": [
  {
   "cell_type": "code",
   "execution_count": 94,
   "metadata": {},
   "outputs": [],
   "source": [
    "import gensim\n",
    "from gensim import corpora\n",
    "from gensim.models import LdaModel\n",
    "import newspaper\n",
    "import nltk\n",
    "import re\n",
    "from nltk.corpus import stopwords"
   ]
  },
  {
   "cell_type": "code",
   "execution_count": 95,
   "metadata": {},
   "outputs": [
    {
     "name": "stderr",
     "output_type": "stream",
     "text": [
      "[nltk_data] Downloading package punkt to /Users/dhruv/nltk_data...\n",
      "[nltk_data]   Package punkt is already up-to-date!\n",
      "[nltk_data] Downloading package stopwords to /Users/dhruv/nltk_data...\n",
      "[nltk_data]   Package stopwords is already up-to-date!\n"
     ]
    },
    {
     "data": {
      "text/plain": [
       "True"
      ]
     },
     "execution_count": 95,
     "metadata": {},
     "output_type": "execute_result"
    }
   ],
   "source": [
    "nltk.download('punkt')\n",
    "nltk.download('stopwords')"
   ]
  },
  {
   "cell_type": "code",
   "execution_count": 100,
   "metadata": {},
   "outputs": [],
   "source": [
    "def extract_main_themes(content, num_keywords=10):\n",
    "    documents = content.split('\\n')\n",
    "\n",
    "    texts = [[token for token in document.lower().split()] for document in documents]\n",
    "\n",
    "    stop_words = stopwords.words('english')\n",
    "    texts = [[token for token in text if token not in stop_words] for text in texts]\n",
    "\n",
    "    dictionary = corpora.Dictionary(texts)\n",
    "    corpus = [dictionary.doc2bow(text) for text in texts]\n",
    "\n",
    "    num_topics = 1\n",
    "    lda_model = LdaModel(corpus, num_topics=num_topics, id2word=dictionary, passes=20)\n",
    "\n",
    "    main_themes = lda_model.print_topics(num_topics=num_topics, num_words=10)\n",
    "\n",
    "    all_themes = []\n",
    "    for theme_tuple in main_themes:\n",
    "        _, theme_tuple = theme_tuple\n",
    "        theme_tuple = re.sub(r'[^a-zA-Z\\'\\’]', ' ', theme_tuple)\n",
    "        \n",
    "        for theme in theme_tuple.split(\" \"):\n",
    "            if theme:\n",
    "                all_themes.append(theme)\n",
    "\n",
    "    return main_themes, ' '.join(all_themes[:num_keywords])"
   ]
  },
  {
   "cell_type": "code",
   "execution_count": 104,
   "metadata": {},
   "outputs": [
    {
     "name": "stdout",
     "output_type": "stream",
     "text": [
      "[(0, '0.036*\"university\" + 0.018*\"students\" + 0.018*\"international\" + 0.018*\"among\" + 0.018*\"universities\" + 0.018*\"top\" + 0.018*\"queensland\" + 0.018*\"world’s\" + 0.018*\"australian\" + 0.014*\"education\"')]\n",
      "university students international among universities top queensland world’s australian education\n"
     ]
    }
   ],
   "source": [
    "content = \"\"\"The University of Melbourne ranked 14th – a historic high for any Australian university – while the University of Sydney and The University of New South Wales tied for 19th place, achieving their highest rankings to date.\n",
    "\n",
    "No Queensland universities made it into the top 20, but the University of Queensland (UQ) hopped up seven places from last year, improving its rank from 50th to 43rd in the world.\n",
    "\n",
    "In its commentary on Australia’s Group of Eight, QS Quacquarelli Symonds, higher education specialists who have ranked the world’s universities for the past 20 years, pointed out UQ “shines in its academic reputation and for its international faculty”.\n",
    "\n",
    "QS chief executive Jessica Turner said Australia’s higher education system prioritised internationalism.\n",
    "\n",
    "“In our 2024 rankings, Australia stands among the world’s top 15 countries for the proportion of international students enrolled,” she said.\n",
    "\n",
    "“Despite the challenges posed by the pandemic, Australian institutions are making a remarkable comeback, attracting more students from emerging markets.”\n",
    "\n",
    "In fact, 14 Australian universities featured among the world’s top 100 for the proportion of international students enrolled, with UQ, Central Queensland University and Bond University among them.\n",
    "\"\"\"\n",
    "main_themes, summary_string = extract_main_themes(content, num_keywords=10)\n",
    "print(main_themes)\n",
    "print(summary_string)"
   ]
  }
 ],
 "metadata": {
  "kernelspec": {
   "display_name": "Python 3",
   "language": "python",
   "name": "python3"
  },
  "language_info": {
   "codemirror_mode": {
    "name": "ipython",
    "version": 3
   },
   "file_extension": ".py",
   "mimetype": "text/x-python",
   "name": "python",
   "nbconvert_exporter": "python",
   "pygments_lexer": "ipython3",
   "version": "3.11.3"
  },
  "orig_nbformat": 4
 },
 "nbformat": 4,
 "nbformat_minor": 2
}
